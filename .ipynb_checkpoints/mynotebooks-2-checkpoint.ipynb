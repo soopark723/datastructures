{
 "cells": [
  {
   "cell_type": "markdown",
   "metadata": {},
   "source": [
    "# Introduction to Python Code"
   ]
  },
  {
   "cell_type": "markdown",
   "metadata": {},
   "source": [
    "# Module and Package"
   ]
  },
  {
   "cell_type": "code",
   "execution_count": null,
   "metadata": {},
   "outputs": [],
   "source": [
    "# List\n",
    "my_list = [1, 2, 3, 4, 5]\n",
    "print(my_list)\n",
    "my_list[3]\n",
    "my_list.append(6)\n",
    "print(my_list)\n",
    "my_list.index(3)\n",
    "my_list.remove(4)\n",
    "print(my_list)"
   ]
  },
  {
   "cell_type": "markdown",
   "metadata": {},
   "source": [
    "## Module"
   ]
  },
  {
   "cell_type": "code",
   "execution_count": null,
   "metadata": {},
   "outputs": [],
   "source": [
    "# Import the Array class from the Array.py file\n",
    "from Array import *\n",
    "from Array import MyArray\n",
    "\n",
    "# Create an instance of the Array class\n",
    "arr = MyArray([1, 2, 3, 4, 5])\n",
    "\n",
    "# Print the original array\n",
    "print(\"Original array:\", arr.array)\n",
    "\n",
    "# Insert 6 at the last index (after the last element)\n",
    "arr.myInsert(6, len(arr.array))  # Inserts 6 at the end\n",
    "print(\"After insertion:\", arr.array)\n",
    "\n",
    "# Remove element 5 from the array\n",
    "arr.myRemove(5)  # Removes element 5 from the array\n",
    "print(\"After removal:\", arr.array)\n",
    "\n",
    "# Find index for element 3\n",
    "arr.myIndex(3)"
   ]
  },
  {
   "cell_type": "markdown",
   "metadata": {},
   "source": [
    "## Package"
   ]
  },
  {
   "cell_type": "code",
   "execution_count": null,
   "metadata": {},
   "outputs": [],
   "source": [
    "1. Create `DataStructureCode/` folder.\n",
    "2. Then, create an empty `__init__.py` file inside the `DataStructureCode/` folder. This file is required for the folder to be recognized as a package.\n",
    "3. Copy and paste `Array.py` file inside of `DataStructureCode/` folder.\n",
    "\n",
    "from DataStructureCode.Array import MyArray\n",
    "\n",
    "arr = MyArray([1, 2, 3, 4, 5])\n",
    "print(\"Original array:\", arr.array)"
   ]
  },
  {
   "cell_type": "markdown",
   "metadata": {},
   "source": [
    "# Exercises\n",
    "\n",
    "## Dictionary"
   ]
  },
  {
   "cell_type": "code",
   "execution_count": null,
   "metadata": {},
   "outputs": [],
   "source": [
    "attendance = {\"date\": \"2025-03-10\", \"status\": 1}\n",
    "print(attendance[\"date\"])\n",
    "print(attendance[\"status\"])\n",
    "\n",
    "my_attendance = []\n",
    "my_attendance.append(attendance)\n",
    "print(my_attendance)\n",
    "my_attendance.append({\"date\": \"2025-03-15\", \"status\": 0})\n",
    "print(my_attendance)\n",
    "my_attendance[1]"
   ]
  },
  {
   "cell_type": "code",
   "execution_count": null,
   "metadata": {},
   "outputs": [],
   "source": [
    "class Attendance:\n",
    "  def __init__(self, id, name, department, attendance):\n",
    "    self.id = id\n",
    "    self.name = name\n",
    "    self.department = department\n",
    "    self.attendance = attendance\n",
    "person1 = Attendance(123456,\"Ewha Kim\",\"AI\",my_attendance)\n",
    "print(person1)\n",
    "print(\"ID=\", person1.id, \", Name = \",person1.name, \", Department = \", person1.department,\", Attendance = \",person1.attendance)\n",
    "\n",
    "1. Add a method `mark_attendance(date, status)` that allows the recording of attendance for a particular date. The status should be either: `1` for present and `0` for absent.\n",
    "\n",
    "2. Add a method `view_attendance()` that prints out the attendance record for the student. The output should display each entry with the date and the attendance status (Present/Absent).\n",
    "\n",
    "3. Add a method `update_attendance(date, status)` that updates the attendance record for a specific date. If the given date is not found in the records, return a message indicating that the date is not found."
   ]
  },
  {
   "cell_type": "code",
   "execution_count": null,
   "metadata": {},
   "outputs": [],
   "source": [
    "class Attendance:\n",
    "  def __init__(self, id, name, department,attendance):\n",
    "    self.id = id\n",
    "    self.name = name\n",
    "    self.department = department\n",
    "    self.attendance = attendance\n",
    "\n",
    "  def mark_attendance(self, date, status):\n",
    "    self.attendance.append({\"date\": date, \"status\": status})\n",
    "\n",
    "  def view_attendance(self):\n",
    "    print(\"Attendance record for \", self.name, \":\")\n",
    "    for record in self.attendance:\n",
    "      if record['status'] == 1:\n",
    "        status = \"Present\"\n",
    "      else:\n",
    "        status = \"Absent\"\n",
    "      print(\"Date: \", record['date'], \", Status: \", status)\n",
    "\n",
    "  def update_attendance(self, date, status):\n",
    "    for record in self.attendance:\n",
    "      if record[\"date\"] == date:\n",
    "        record[\"status\"] = status\n",
    "        print(\"Attendance updated for \", self.name, \" on \", date)\n",
    "        return\n",
    "    print(\"Date not found.\")\n",
    "\n",
    "person1 = Attendance(123456,\"Ewha Kim\",\"AI\",my_attendance)\n",
    "\n",
    "print(\"ID=\", person1.id, \", Name = \",person1.name, \", Department = \", person1.department,\", Attendance = \",person1.attendance)"
   ]
  }
 ],
 "metadata": {
  "kernelspec": {
   "display_name": "Python 3 (ipykernel)",
   "language": "python",
   "name": "python3"
  },
  "language_info": {
   "codemirror_mode": {
    "name": "ipython",
    "version": 3
   },
   "file_extension": ".py",
   "mimetype": "text/x-python",
   "name": "python",
   "nbconvert_exporter": "python",
   "pygments_lexer": "ipython3",
   "version": "3.12.3"
  },
  "widgets": {
   "application/vnd.jupyter.widget-state+json": {
    "state": {},
    "version_major": 2,
    "version_minor": 0
   }
  }
 },
 "nbformat": 4,
 "nbformat_minor": 4
}
