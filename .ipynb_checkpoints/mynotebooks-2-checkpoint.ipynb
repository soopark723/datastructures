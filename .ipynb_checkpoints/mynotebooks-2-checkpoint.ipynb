{
 "cells": [
  {
   "cell_type": "markdown",
   "metadata": {},
   "source": [
    "# Introduction to Python Code"
   ]
  },
  {
   "cell_type": "markdown",
   "metadata": {},
   "source": [
    "# Module and Package"
   ]
  },
  {
   "cell_type": "code",
   "execution_count": 1,
   "metadata": {},
   "outputs": [
    {
     "name": "stdout",
     "output_type": "stream",
     "text": [
      "[1, 2, 3, 4, 5]\n",
      "[1, 2, 3, 4, 5, 6]\n",
      "[1, 2, 3, 5, 6]\n"
     ]
    }
   ],
   "source": [
    "# List\n",
    "my_list = [1, 2, 3, 4, 5]\n",
    "print(my_list)\n",
    "my_list[3]\n",
    "my_list.append(6)\n",
    "print(my_list)\n",
    "my_list.index(3)\n",
    "my_list.remove(4)\n",
    "print(my_list)"
   ]
  },
  {
   "cell_type": "markdown",
   "metadata": {},
   "source": [
    "## Module"
   ]
  },
  {
   "cell_type": "code",
   "execution_count": 2,
   "metadata": {},
   "outputs": [],
   "source": [
    "import numpy as np\n",
    "\n",
    "class MyArray:\n",
    "    def __init__(self, input_list):\n",
    "        self.array = np.array(input_list, dtype=\"i\")\n",
    "\n",
    "    def myInsert(self, x, i):\n",
    "        new_array = np.empty(len(self.array) + 1, dtype=\"i\")\n",
    "        new_array[:len(self.array)] = self.array\n",
    "        n = len(new_array)\n",
    "        \n",
    "        # Shift elements to the right\n",
    "        for idx in range(n - 2, i - 1, -1):\n",
    "            new_array[idx + 1] = new_array[idx]\n",
    "        \n",
    "        new_array[i] = x\n",
    "        self.array = new_array  # Update self.array\n",
    "        return self.array\n",
    "\n",
    "    def myIndex(self, x):\n",
    "        n = len(self.array)\n",
    "        for idx in range(n):\n",
    "            if self.array[idx] == x:\n",
    "                return idx\n",
    "        return -1  # If the key is not found\n",
    "\n",
    "    def myDelete(self, i):\n",
    "        n = len(self.array)\n",
    "        \n",
    "        # Shift elements to the left\n",
    "        for idx in range(i + 1, n):\n",
    "            self.array[idx - 1] = self.array[idx]\n",
    "        \n",
    "        self.array = self.array[:n - 1]  # Update self.array\n",
    "        return self.array\n",
    "\n",
    "    def myRemove(self, x):\n",
    "        i = self.myIndex(x)  # O(n)\n",
    "        if i == -1:\n",
    "            print(\"Element not found.\")\n",
    "            return self.array\n",
    "        \n",
    "        print(\"Element found at position:\", i)\n",
    "        self.myDelete(i)  # O(n)\n",
    "        return self.array"
   ]
  },
  {
   "cell_type": "code",
   "execution_count": 3,
   "metadata": {},
   "outputs": [],
   "source": [
    "# Import the Array class from the Array.py file\n",
    "# from Array import *\n",
    "# from Array import MyArray"
   ]
  },
  {
   "cell_type": "code",
   "execution_count": 3,
   "metadata": {},
   "outputs": [
    {
     "name": "stdout",
     "output_type": "stream",
     "text": [
      "Original array: [1 2 3 4 5]\n",
      "After insertion: [1 2 3 4 5 6]\n",
      "Element found at position: 4\n",
      "After removal: [1 2 3 4 6]\n"
     ]
    },
    {
     "data": {
      "text/plain": [
       "2"
      ]
     },
     "execution_count": 3,
     "metadata": {},
     "output_type": "execute_result"
    }
   ],
   "source": [
    "# Create an instance of the Array class\n",
    "arr = MyArray([1, 2, 3, 4, 5])\n",
    "\n",
    "# Print the original array\n",
    "print(\"Original array:\", arr.array)\n",
    "\n",
    "# Insert 6 at the last index (after the last element)\n",
    "arr.myInsert(6, len(arr.array))  # Inserts 6 at the end\n",
    "print(\"After insertion:\", arr.array)\n",
    "\n",
    "# Remove element 5 from the array\n",
    "arr.myRemove(5)  # Removes element 5 from the array\n",
    "print(\"After removal:\", arr.array)\n",
    "\n",
    "# Find index for element 3\n",
    "arr.myIndex(3)"
   ]
  },
  {
   "cell_type": "markdown",
   "metadata": {},
   "source": [
    "## Package"
   ]
  },
  {
   "cell_type": "code",
   "execution_count": 4,
   "metadata": {},
   "outputs": [
    {
     "name": "stdout",
     "output_type": "stream",
     "text": [
      "Original array: [1 2 3 4 5]\n"
     ]
    }
   ],
   "source": [
    "# 1. Create `DataStructureCode/` folder.\n",
    "# 2. Then, create an empty `__init__.py` file inside the `DataStructureCode/` folder. This file is required for the folder to be recognized as a package.\n",
    "# 3. Copy and paste `Array.py` file inside of `DataStructureCode/` folder.\n",
    "\n",
    "# from DataStructureCode.Array import MyArray\n",
    "\n",
    "arr = MyArray([1, 2, 3, 4, 5])\n",
    "print(\"Original array:\", arr.array)"
   ]
  },
  {
   "cell_type": "markdown",
   "metadata": {},
   "source": [
    "# Exercises\n",
    "\n",
    "## Dictionary"
   ]
  },
  {
   "cell_type": "code",
   "execution_count": 5,
   "metadata": {},
   "outputs": [
    {
     "name": "stdout",
     "output_type": "stream",
     "text": [
      "2025-03-10\n",
      "1\n",
      "[{'date': '2025-03-10', 'status': 1}]\n",
      "[{'date': '2025-03-10', 'status': 1}, {'date': '2025-03-15', 'status': 0}]\n"
     ]
    },
    {
     "data": {
      "text/plain": [
       "{'date': '2025-03-15', 'status': 0}"
      ]
     },
     "execution_count": 5,
     "metadata": {},
     "output_type": "execute_result"
    }
   ],
   "source": [
    "attendance = {\"date\": \"2025-03-10\", \"status\": 1}\n",
    "print(attendance[\"date\"])\n",
    "print(attendance[\"status\"])\n",
    "\n",
    "my_attendance = []\n",
    "my_attendance.append(attendance)\n",
    "print(my_attendance)\n",
    "my_attendance.append({\"date\": \"2025-03-15\", \"status\": 0})\n",
    "print(my_attendance)\n",
    "my_attendance[1]"
   ]
  },
  {
   "cell_type": "code",
   "execution_count": 6,
   "metadata": {},
   "outputs": [
    {
     "name": "stdout",
     "output_type": "stream",
     "text": [
      "<__main__.Attendance object at 0x0000022134898F50>\n",
      "ID= 123456 , Name =  Ewha Kim , Department =  AI , Attendance =  [{'date': '2025-03-10', 'status': 1}, {'date': '2025-03-15', 'status': 0}]\n"
     ]
    }
   ],
   "source": [
    "class Attendance:\n",
    "  def __init__(self, id, name, department, attendance):\n",
    "    self.id = id\n",
    "    self.name = name\n",
    "    self.department = department\n",
    "    self.attendance = attendance\n",
    "person1 = Attendance(123456,\"Ewha Kim\",\"AI\",my_attendance)\n",
    "print(person1)\n",
    "print(\"ID=\", person1.id, \", Name = \",person1.name, \", Department = \", person1.department,\", Attendance = \",person1.attendance)"
   ]
  },
  {
   "cell_type": "code",
   "execution_count": 19,
   "metadata": {},
   "outputs": [],
   "source": [
    "# 1. Add a method `mark_attendance(date, status)` that allows the recording of attendance for a particular date. The status should be either: `1` for present and `0` for absent.\n",
    "# 2. Add a method `view_attendance()` that prints out the attendance record for the student. The output should display each entry with the date and the attendance status (Present/Absent).\n",
    "# 3. Add a method `update_attendance(date, status)` that updates the attendance record for a specific date. If the given date is not found in the records, return a message indicating that the date is not found.\n",
    "\n",
    "class Attendance:\n",
    "  def __init__(self, id, name, department):\n",
    "    self.id = id\n",
    "    self.name = name\n",
    "    self.department = department\n",
    "    self.attendance = {}\n",
    "\n",
    "  def mark_attendance(self, date, status):\n",
    "    if status not in (0, 1):\n",
    "        print(\"Status must be 0 (Absent) or 1 (Present).\")\n",
    "        return \n",
    "    self.attendance[date] = status\n",
    "    print(f\"Attendance marked for {self.name} on {date}.\")\n",
    "\n",
    "  def view_attendance(self):\n",
    "    print(f\"Attendance record for {self.name}:\")\n",
    "    for date, status in self.attendance.items():\n",
    "      status_str = \"Present\" if status == 1 else \"Absent\"\n",
    "      print(f\"Date: {date}, Status: {status_str}\")\n",
    "\n",
    "  def update_attendance(self, date, status):\n",
    "    if status not in (0, 1):\n",
    "          print(\"Status must be 0 (Absent) or 1 (Present).\")\n",
    "          return\n",
    "    if date in self.attendance:\n",
    "        self.attendance[date] = status\n",
    "        print(f\"Attendance updated for {self.name} on {date}.\")\n",
    "    else:\n",
    "        print(f\"Date {date} not found.\")"
   ]
  },
  {
   "cell_type": "code",
   "execution_count": 20,
   "metadata": {},
   "outputs": [
    {
     "name": "stdout",
     "output_type": "stream",
     "text": [
      "Attendance marked for Ewha Kim on 2025-04-01.\n",
      "Attendance marked for Ewha Kim on 2025-04-02.\n",
      "Attendance marked for Ewha Kim on 2025-04-03.\n",
      "Attendance record for Ewha Kim:\n",
      "Date: 2025-04-01, Status: Present\n",
      "Date: 2025-04-02, Status: Absent\n",
      "Date: 2025-04-03, Status: Present\n",
      "Attendance updated for Ewha Kim on 2025-04-02.\n",
      "Date 2025-04-05 not found.\n",
      "Attendance record for Ewha Kim:\n",
      "Date: 2025-04-01, Status: Present\n",
      "Date: 2025-04-02, Status: Present\n",
      "Date: 2025-04-03, Status: Present\n"
     ]
    }
   ],
   "source": [
    "student1 = Attendance(123456,\"Ewha Kim\",\"AI\")\n",
    "\n",
    "student1.mark_attendance(\"2025-04-01\", 1)\n",
    "student1.mark_attendance(\"2025-04-02\", 0)\n",
    "student1.mark_attendance(\"2025-04-03\", 1)\n",
    "\n",
    "student1.view_attendance()\n",
    "\n",
    "student1.update_attendance(\"2025-04-02\", 1)\n",
    "\n",
    "student1.update_attendance(\"2025-04-05\", 0)\n",
    "\n",
    "student1.view_attendance()"
   ]
  },
  {
   "cell_type": "markdown",
   "metadata": {},
   "source": [
    "## Practice With Dictionaries"
   ]
  },
  {
   "cell_type": "markdown",
   "metadata": {},
   "source": [
    "### Use a Dictionary to Describe Your Outfit"
   ]
  },
  {
   "cell_type": "code",
   "execution_count": 21,
   "metadata": {},
   "outputs": [],
   "source": [
    "class Outfit:\n",
    "    def __init__(self, top, bottom, shoes):\n",
    "        self.top = top\n",
    "        self.bottom = bottom\n",
    "        self.shoes = shoes\n",
    "        self.outfit = {\n",
    "            \"top\": top,\n",
    "            \"bottom\": bottom,\n",
    "            \"shoes\": shoes\n",
    "        }\n",
    "        self.accessories = {}  # dictionary to store accessories\n",
    "\n",
    "    def add_accessory(self, accessory_name, color):\n",
    "        # adds an accessory with its color\n",
    "        self.accessories[accessory_name] = color\n",
    "        print(f\"Added accessory: {accessory_name} ({color})\")\n",
    "\n",
    "    def update_outfit(self, part, new_item):\n",
    "        # updates a part of the outfit (top, bottom, shoes)\n",
    "        if part in self.outfit:\n",
    "            self.outfit[part] = new_item\n",
    "            print(f\"Updated {part} to: {new_item}\")\n",
    "        else:\n",
    "            print(f\"{part} is not a valid outfit part.\")\n",
    "\n",
    "    def display_outfit(self):\n",
    "        # displays the full outfit including accessories\n",
    "        print(\"Current Outfit:\")\n",
    "        for part, item in self.outfit.items():\n",
    "            print(f\"- {part.capitalize()}: {item}\")\n",
    "        \n",
    "        if self.accessories:\n",
    "            print(\"Accessories:\")\n",
    "            for acc, color in self.accessories.items():\n",
    "                print(f\"- {acc} ({color})\")\n",
    "        else:\n",
    "            print(\"No accessories added.\")"
   ]
  },
  {
   "cell_type": "code",
   "execution_count": 24,
   "metadata": {},
   "outputs": [
    {
     "name": "stdout",
     "output_type": "stream",
     "text": [
      "Added accessory: Hat (Navy)\n",
      "Added accessory: Watch (Silver)\n",
      "Updated top to: Hoodie\n",
      "\n",
      "\n",
      "Current Outfit:\n",
      "- Top: Hoodie\n",
      "- Bottom: Shorts\n",
      "- Shoes: Sneakers\n",
      "Accessories:\n",
      "- Hat (Navy)\n",
      "- Watch (Silver)\n"
     ]
    }
   ],
   "source": [
    "my_outfit = Outfit(\"T-shirt\", \"Shorts\", \"Sneakers\")\n",
    "\n",
    "my_outfit.add_accessory(\"Hat\", \"Navy\")\n",
    "my_outfit.add_accessory(\"Watch\", \"Silver\")\n",
    "\n",
    "my_outfit.update_outfit(\"top\", \"Hoodie\")\n",
    "\n",
    "print(\"\\n\")\n",
    "my_outfit.display_outfit()"
   ]
  }
 ],
 "metadata": {
  "kernelspec": {
   "display_name": "my-python3-kernel",
   "language": "python",
   "name": "my-python3-kernel"
  },
  "language_info": {
   "codemirror_mode": {
    "name": "ipython",
    "version": 3
   },
   "file_extension": ".py",
   "mimetype": "text/x-python",
   "name": "python",
   "nbconvert_exporter": "python",
   "pygments_lexer": "ipython3",
   "version": "3.12.7"
  },
  "widgets": {
   "application/vnd.jupyter.widget-state+json": {
    "state": {},
    "version_major": 2,
    "version_minor": 0
   }
  }
 },
 "nbformat": 4,
 "nbformat_minor": 4
}
