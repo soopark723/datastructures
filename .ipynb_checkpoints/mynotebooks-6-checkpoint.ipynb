{
 "cells": [
  {
   "cell_type": "markdown",
   "metadata": {},
   "source": [
    "# Stacks"
   ]
  },
  {
   "cell_type": "markdown",
   "metadata": {},
   "source": [
    "# Class Definitions"
   ]
  },
  {
   "cell_type": "code",
   "execution_count": 5,
   "metadata": {},
   "outputs": [],
   "source": [
    "class ListNode:\n",
    "\tdef __init__(self, data, nextNode:\"ListNode\"):\n",
    "\t\tself.data = data\n",
    "\t\tself.next = nextNode"
   ]
  },
  {
   "cell_type": "code",
   "execution_count": 3,
   "metadata": {},
   "outputs": [],
   "source": [
    "class SimpleLinkedList:\n",
    "\tdef __init__(self):\n",
    "\t\tself.head = ListNode(data=\"dummy\", nextNode=None)\n",
    "\t\tself.numItems = 0\n",
    "\n",
    "\tdef append(self, data):\n",
    "\t\tprev = self.getNode(self.numItems-1)\n",
    "\t\tnewNode = ListNode(data, prev.next)\n",
    "\t\tprev.next = newNode\n",
    "\t\tself.numItems += 1\n",
    "\n",
    "\tdef insert(self, i:int, data):\n",
    "  \t\tif i >= 0 and i <= self.numItems:\n",
    "    \t\t\tprev = self.getNode(i - 1)\n",
    "    \t\t\tnewNode = ListNode(data, prev.next)\n",
    "    \t\t\tprev.next = newNode\n",
    "    \t\t\tself.numItems += 1\n",
    "  \t\telse:\n",
    "    \t\t\tprint(\"index\", i, \": out of bound in insert()\") \n",
    "\n",
    "\tdef pop(self, i:int):\n",
    "\t\tif (i >= 0 and i <= self.numItems-1):\n",
    "\t\t\tprev = self.getNode(i - 1)\n",
    "\t\t\tcurr = prev.next\n",
    "\t\t\tprev.next = curr.next\n",
    "\t\t\tretItem = curr.data\n",
    "\t\t\tself.numItems -= 1\n",
    "\t\t\treturn retItem\n",
    "\t\telse:\n",
    "\t\t\treturn None\n",
    "\n",
    "\tdef remove(self, x):\n",
    "  \t\ti = self.index(x)\n",
    "  \t\tif i != None:\n",
    "    \t\t\tprev = self.getNode(i - 1)\n",
    "    \t\t\tcurr = prev.next\n",
    "    \t\t\tprev.next = curr.next  \n",
    "    \t\t\tself.numItems -= 1\n",
    "  \t\telse:\n",
    "    \t\t\treturn None\n",
    "\n",
    "\tdef getNode(self, i:int) -> ListNode:\n",
    "\t\tcurr = self.head\n",
    "\t\tfor index in range(i+1):\n",
    "\t\t\tcurr = curr.next\n",
    "\t\treturn curr\n",
    "\n",
    "\tdef get(self, i:int):\n",
    "\t\tif self.isEmpty():\n",
    "\t\t\treturn None\n",
    "\t\tif (i >= 0 and i <= self.numItems - 1):\n",
    "\t\t\treturn self.getNode(i).data\n",
    "\t\telse:\n",
    "\t\t\treturn None\n",
    "\n",
    "\tdef printList(self):\n",
    "\t\tcurr = self.head.next\n",
    "\t\twhile curr != None:\n",
    "\t\t\tprint(curr.data, end = ' ')\n",
    "\t\t\tcurr = curr.next\n",
    "\t\tprint()\n",
    "\n",
    "\tdef extend(self, a:'SimpleLinkedList'):\n",
    "\t\tfor index in range(a.size()):\n",
    "\t\t\tself.append(a.get(index))\n",
    " \n",
    "\tdef copy(self):\n",
    "\t\ta = SimpleLinkedList()\n",
    "\t\tfor index in range(self.numItems):\n",
    "\t\t\ta.append(self.get(index))\n",
    "\t\treturn a\n",
    "\n",
    "\tdef reverse(self):\n",
    "\t\ta = SimpleLinkedList()\n",
    "\t\tfor index in range(self.numItems):\n",
    "\t\t\ta.insert(0, self.get(index))\n",
    "\t\tself.clear()\n",
    "\t\tfor index in range(a.size()):\n",
    "\t\t\tself.append(a.get(index))\n",
    "\n",
    "\tdef index(self, x):\n",
    "\t\tcurr = self.head.next\n",
    "\t\tfor index in range(self.numItems):\n",
    "\t\t\tif curr.data == x:\n",
    "\t\t\t\treturn index\n",
    "\t\t\telse:\n",
    "\t\t\t\tcurr = curr.next\n",
    "\t\treturn None\n",
    "\n",
    "\tdef isEmpty(self) -> bool:\n",
    "\t\treturn self.numItems == 0\n",
    "\n",
    "\tdef size(self) -> int:\n",
    "\t\treturn self.numItems\n",
    "\n",
    "\tdef clear(self):\n",
    "\t\tself.head = ListNode(\"dummy\", None)\n",
    "\t\tself.numItems = 0\n",
    "\n",
    "\tdef count(self, x) -> int:\n",
    "\t\tcnt = 0\n",
    "\t\tcurr = self.head.next \n",
    "\t\twhile curr != None:\n",
    "\t\t\tif curr.data == x:\n",
    "\t\t\t\t\tcnt += 1\n",
    "\t\t\tcurr = curr.next\n",
    "\t\treturn cnt"
   ]
  },
  {
   "cell_type": "code",
   "execution_count": 6,
   "metadata": {},
   "outputs": [],
   "source": [
    "class ListStack:\n",
    "\tdef __init__(self):\n",
    "\t\tself.stack = []\n",
    "\n",
    "\tdef push(self, x):\n",
    "\t\tself.stack.append(x)\n",
    "\n",
    "\tdef pop(self):\n",
    "\t\treturn self.stack.pop()\n",
    "\n",
    "\tdef top(self):\n",
    "\t\tif self.isEmpty():\n",
    "\t\t\treturn None\n",
    "\t\telse:\n",
    "\t\t\treturn self.stack[-1]\n",
    "\n",
    "\tdef isEmpty(self) -> bool:\n",
    "\t\treturn len(self.stack) == 0\n",
    "\n",
    "\tdef size(self):\n",
    "  \t\treturn len(self.stack)\n",
    "\n",
    "\tdef printStack(self):\n",
    "\t\tprint(\"Elements from top to bottom: \")\n",
    "\t\tfor i in range(len(self.stack)-1, -1, -1):\n",
    "\t\t\tprint(self.stack[i], end = ' ')\n",
    "\t\tprint()"
   ]
  },
  {
   "cell_type": "code",
   "execution_count": 5,
   "metadata": {},
   "outputs": [],
   "source": [
    "class LinkedStack:\n",
    "\tdef __init__(self):\n",
    "\t\tself.stack = SimpleLinkedList()\n",
    "\n",
    "\tdef push(self, x):\n",
    "\t\tself.stack.insert(0, x)\n",
    "\n",
    "\tdef pop(self):\n",
    "\t\treturn self.stack.pop(0)\n",
    "\n",
    "\tdef top(self):\n",
    "\t\tif self.isEmpty():\n",
    "\t\t\treturn None\n",
    "\t\telse:\n",
    "\t\t\treturn self.stack.get(0)\n",
    "\n",
    "\tdef isEmpty(self) -> bool:\n",
    "\t\treturn self.stack.isEmpty()\n",
    "\n",
    "\tdef size(self):\n",
    "\t\treturn self.stack.size()\n",
    "\n",
    "\tdef printStack(self):\n",
    "\t\tprint(\"Elements from top to bottom: \", end=\" \")\n",
    "\t\tfor i in range(self.stack.size()):\n",
    "\t\t\tprint(self.stack.get(i), end=\" \")"
   ]
  },
  {
   "cell_type": "markdown",
   "metadata": {},
   "source": [
    "## Stack"
   ]
  },
  {
   "cell_type": "code",
   "execution_count": 8,
   "metadata": {},
   "outputs": [
    {
     "name": "stdout",
     "output_type": "stream",
     "text": [
      "Elements from top to bottom: \n",
      "400 300 200 100 \n",
      "Top after pushes:  400\n",
      "Remove an element from top:  400\n",
      "Elements from top to bottom: \n",
      "300 200 100 \n",
      "Is the stack empty? False\n",
      "Number of element in the stack? 3\n"
     ]
    }
   ],
   "source": [
    "stack = ListStack()\n",
    "stack.push(100); stack.push(200); stack.push(300); stack.push(400)\n",
    "stack.printStack()\n",
    "print(\"Top after pushes: \", stack.top())\n",
    "print(\"Remove an element from top: \", stack.pop())\n",
    "stack.printStack()\n",
    "print('Is the stack empty?', stack.isEmpty())\n",
    "print('Number of element in the stack?', stack.size())"
   ]
  },
  {
   "cell_type": "code",
   "execution_count": 9,
   "metadata": {},
   "outputs": [
    {
     "name": "stdout",
     "output_type": "stream",
     "text": [
      "Elements from top to bottom:  400 300 200 100 \n",
      "Top after pushes:  400\n",
      "Remove an element from top:  400\n",
      "Elements from top to bottom:  300 200 100 \n",
      "Is the stack empty? False\n",
      "Number of element in the stack? 3\n"
     ]
    }
   ],
   "source": [
    "stack = LinkedStack()\n",
    "stack.push(100); stack.push(200); stack.push(300); stack.push(400)\n",
    "stack.printStack()\n",
    "print(\"\\nTop after pushes: \", stack.top())\n",
    "print(\"Remove an element from top: \", stack.pop())\n",
    "stack.printStack()\n",
    "print('\\nIs the stack empty?', stack.isEmpty())\n",
    "print('Number of element in the stack?', stack.size())"
   ]
  },
  {
   "cell_type": "markdown",
   "metadata": {},
   "source": [
    "# Exercises"
   ]
  },
  {
   "cell_type": "markdown",
   "metadata": {},
   "source": [
    "## Reverse: Stack\n",
    "\n",
    "1. Create a function that reverses the characters in a string using a stack, without modifying the original stack.\n",
    "2. Create a function that reverses a given stack using another stack.\n",
    "This function should modify the original stack.\n",
    "3. Add a second reverse() method to the ListStack class to implement the behavior described in (2)."
   ]
  },
  {
   "cell_type": "code",
   "execution_count": 10,
   "metadata": {},
   "outputs": [
    {
     "name": "stdout",
     "output_type": "stream",
     "text": [
      "Elements from top to bottom: \n",
      "400 300 200 100 \n"
     ]
    }
   ],
   "source": [
    "stack = ListStack()\n",
    "stack.push(100); stack.push(200); stack.push(300); stack.push(400)\n",
    "stack.printStack()"
   ]
  },
  {
   "cell_type": "code",
   "execution_count": 14,
   "metadata": {},
   "outputs": [
    {
     "name": "stdout",
     "output_type": "stream",
     "text": [
      "Elements from top to bottom: \n",
      "100 200 300 400 \n"
     ]
    }
   ],
   "source": [
    "# A function that reverses the characters in a string using a stack, without modifying the original stack.\n",
    "\n",
    "def reverse(original_stack):\n",
    "    reversed_stack = ListStack()\n",
    "    for i in range(original_stack.size()):\n",
    "        reversed_stack.push(original_stack.pop())\n",
    "    return reversed_stack\n",
    "\n",
    "rev_stack = reverse(stack)\n",
    "rev_stack.printStack()"
   ]
  },
  {
   "cell_type": "code",
   "execution_count": 13,
   "metadata": {},
   "outputs": [
    {
     "name": "stdout",
     "output_type": "stream",
     "text": [
      "Elements from top to bottom: \n",
      "400 300 200 100 \n"
     ]
    }
   ],
   "source": [
    "stack = ListStack()\n",
    "stack.push(100); stack.push(200); stack.push(300); stack.push(400)\n",
    "stack.printStack()"
   ]
  },
  {
   "cell_type": "code",
   "execution_count": 11,
   "metadata": {},
   "outputs": [
    {
     "name": "stdout",
     "output_type": "stream",
     "text": [
      "Elements from top to bottom: \n",
      "100 200 300 400 \n"
     ]
    }
   ],
   "source": [
    "# A function that reverses a given stack using another stack. This function should modify the original stack.\n",
    "\n",
    "def reverse_stack(stack: ListStack):\n",
    "    temp_stack = ListStack()\n",
    "\n",
    "    while not stack.isEmpty():\n",
    "        temp_stack.push(stack.pop())\n",
    "\n",
    "    stack.stack = temp_stack.stack\n",
    "\n",
    "reverse_stack(stack)\n",
    "stack.printStack()"
   ]
  },
  {
   "cell_type": "markdown",
   "metadata": {},
   "source": [
    "## Websites Example"
   ]
  },
  {
   "cell_type": "raw",
   "metadata": {},
   "source": [
    "import webbrowser\n",
    "import time\n",
    "import sys\n",
    "stack = ListStack()\n",
    "urls = [ \"naver.com\", \"daum.net\", \"nate.com\"]\n",
    "# Browser history stacks up in the order in which you visit websites.\n",
    "# push url of each visited websites to a stack\n",
    "for url in urls:\n",
    "  stack.push(url)\n",
    "  # When you hit the back button, the previous URL is popped from the stack.\n",
    "  stack.append(url)\n",
    "\n",
    "while not len(stack)==0: # if stack is not empty\n",
    "  url = stack.pop() # pop the previous URL and open the browser\n",
    "  webbrowser.open('http://'+url)"
   ]
  },
  {
   "cell_type": "markdown",
   "metadata": {},
   "source": [
    "## Practice With Stacks"
   ]
  },
  {
   "cell_type": "markdown",
   "metadata": {},
   "source": [
    "### Find an Element Based on Index"
   ]
  },
  {
   "cell_type": "code",
   "execution_count": 37,
   "metadata": {},
   "outputs": [],
   "source": [
    "def get_element_at_index(stack: ListStack, index):\n",
    "    if index < 0 or index >= stack.size():\n",
    "        return None\n",
    "    return stack.stack[-(index + 1)]"
   ]
  },
  {
   "cell_type": "code",
   "execution_count": 38,
   "metadata": {},
   "outputs": [
    {
     "name": "stdout",
     "output_type": "stream",
     "text": [
      "Elements from top to bottom: \n",
      "40 30 20 10 \n",
      "Element at index 0: 40\n",
      "Element at index 2: 20\n",
      "Element at index 5: None\n"
     ]
    }
   ],
   "source": [
    "s = ListStack()\n",
    "for n in [10, 20, 30, 40]:\n",
    "    s.push(n)\n",
    "\n",
    "s.printStack()\n",
    "\n",
    "print(\"Element at index 0:\", get_element_at_index(s, 0))\n",
    "print(\"Element at index 2:\", get_element_at_index(s, 2))\n",
    "print(\"Element at index 5:\", get_element_at_index(s, 5))"
   ]
  }
 ],
 "metadata": {
  "kernelspec": {
   "display_name": "my-python3-kernel",
   "language": "python",
   "name": "my-python3-kernel"
  },
  "language_info": {
   "codemirror_mode": {
    "name": "ipython",
    "version": 3
   },
   "file_extension": ".py",
   "mimetype": "text/x-python",
   "name": "python",
   "nbconvert_exporter": "python",
   "pygments_lexer": "ipython3",
   "version": "3.12.7"
  },
  "widgets": {
   "application/vnd.jupyter.widget-state+json": {
    "state": {},
    "version_major": 2,
    "version_minor": 0
   }
  }
 },
 "nbformat": 4,
 "nbformat_minor": 4
}
