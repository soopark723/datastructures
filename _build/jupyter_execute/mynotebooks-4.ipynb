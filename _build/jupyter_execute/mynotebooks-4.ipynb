{
 "cells": [
  {
   "cell_type": "markdown",
   "metadata": {},
   "source": [
    "# Arrays"
   ]
  },
  {
   "cell_type": "code",
   "execution_count": 1,
   "metadata": {},
   "outputs": [],
   "source": [
    "class MyArray:\n",
    "    def __init__(self, input_list):\n",
    "        self.array = np.array(input_list, dtype=\"i\")\n",
    "\n",
    "    def myInsert(self, x, i):\n",
    "        new_array = np.empty(len(self.array) + 1, dtype=\"i\")\n",
    "        new_array[:len(self.array)] = self.array\n",
    "        n = len(new_array)\n",
    "        \n",
    "        # Shift elements to the right\n",
    "        for idx in range(n - 2, i - 1, -1):\n",
    "            new_array[idx + 1] = new_array[idx]\n",
    "        \n",
    "        new_array[i] = x\n",
    "        self.array = new_array  # Update self.array\n",
    "        return self.array\n",
    "\n",
    "    def myIndex(self, x):\n",
    "        n = len(self.array)\n",
    "        for idx in range(n):\n",
    "            if self.array[idx] == x:\n",
    "                return idx\n",
    "        return -1  # If the key is not found\n",
    "\n",
    "    def myDelete(self, i):\n",
    "        n = len(self.array)\n",
    "        \n",
    "        # Shift elements to the left\n",
    "        for idx in range(i + 1, n):\n",
    "            self.array[idx - 1] = self.array[idx]\n",
    "        \n",
    "        self.array = self.array[:n - 1]  # Update self.array\n",
    "        return self.array\n",
    "\n",
    "    def myRemove(self, x):\n",
    "        i = self.myIndex(x)  # O(n)\n",
    "        if i == -1:\n",
    "            print(\"Element not found.\")\n",
    "            return self.array\n",
    "        \n",
    "        print(\"Element found at position:\", i)\n",
    "        self.myDelete(i)  # O(n)\n",
    "        return self.array"
   ]
  },
  {
   "cell_type": "code",
   "execution_count": 2,
   "metadata": {},
   "outputs": [],
   "source": [
    "# <mymodule.py>\n",
    "def myname(name):\n",
    "  print(\"This is a function inside of a file mymodule.py\")\n",
    "  print(\"My name is\", name)\n",
    "\n",
    "def myage(age):\n",
    "  print(\"I'm\", age, \"years old\")"
   ]
  },
  {
   "cell_type": "code",
   "execution_count": 3,
   "metadata": {},
   "outputs": [],
   "source": [
    "import numpy as np\n",
    "\n",
    "class MyArray:\n",
    "    def __init__(self, input_list):\n",
    "        self.array = np.array(input_list, dtype=\"i\")\n",
    "\n",
    "    def myInsert(self, x, i):\n",
    "        new_array = np.empty(len(self.array) + 1, dtype=\"i\")\n",
    "        new_array[:len(self.array)] = self.array\n",
    "        n = len(new_array)\n",
    "\n",
    "        # Shift elements to the right\n",
    "        for idx in range(n - 2, i - 1, -1):\n",
    "            new_array[idx + 1] = new_array[idx]\n",
    "\n",
    "        new_array[i] = x\n",
    "        self.array = new_array  # Update self.array\n",
    "        return self.array\n",
    "\n",
    "    def myIndex(self, x):\n",
    "        n = len(self.array)\n",
    "        for idx in range(n):\n",
    "            if self.array[idx] == x:\n",
    "                return idx\n",
    "        return -1  # If the key is not found\n",
    "\n",
    "    def myDelete(self, i):\n",
    "        n = len(self.array)\n",
    "\n",
    "        # Shift elements to the left\n",
    "        for idx in range(i + 1, n):\n",
    "            self.array[idx - 1] = self.array[idx]\n",
    "\n",
    "        self.array = self.array[:n - 1]  # Update self.array\n",
    "        return self.array\n",
    "\n",
    "    def myRemove(self, x):\n",
    "        i = self.myIndex(x)  # O(n)\n",
    "        if i == -1:\n",
    "            print(\"Element not found.\")\n",
    "            return self.array\n",
    "\n",
    "        print(\"Element found at position:\", i)\n",
    "        self.myDelete(i)  # O(n)\n",
    "        return self.array"
   ]
  },
  {
   "cell_type": "code",
   "execution_count": 4,
   "metadata": {},
   "outputs": [
    {
     "name": "stdout",
     "output_type": "stream",
     "text": [
      "Original array: [1 2 3 4 5]\n",
      "After insertion: [1 2 3 4 5 6]\n",
      "Element found at position: 4\n",
      "After removal: [1 2 3 4 6]\n"
     ]
    },
    {
     "data": {
      "text/plain": [
       "2"
      ]
     },
     "execution_count": 4,
     "metadata": {},
     "output_type": "execute_result"
    }
   ],
   "source": [
    "# Create an instance of the Array class\n",
    "arr = MyArray([1, 2, 3, 4, 5])\n",
    "\n",
    "# Print the original array\n",
    "print(\"Original array:\", arr.array)\n",
    "\n",
    "# Insert 6 at the last index (after the last element)\n",
    "arr.myInsert(6, len(arr.array))  # Inserts 6 at the end\n",
    "print(\"After insertion:\", arr.array)\n",
    "\n",
    "# Remove element 5 from the array\n",
    "arr.myRemove(5)  # Removes element 5 from the array\n",
    "print(\"After removal:\", arr.array)\n",
    "\n",
    "# Find index for element 3\n",
    "arr.myIndex(3)"
   ]
  },
  {
   "cell_type": "markdown",
   "metadata": {},
   "source": [
    "# Example 1\n",
    "\n",
    "## Time Complexity\n",
    "\n",
    "What is the time complexity of access, search, insertion, deletion of array data structure? Explain why."
   ]
  },
  {
   "cell_type": "code",
   "execution_count": 5,
   "metadata": {},
   "outputs": [],
   "source": [
    "class MyArray:\n",
    "    def __init__(self, input_list):\n",
    "        self.array = np.array(input_list, dtype=\"i\")\n",
    "        # O(1)\n",
    "\n",
    "    def myInsert(self, x, i):\n",
    "        new_array = np.empty(len(self.array) + 1, dtype=\"i\")\n",
    "        new_array[:len(self.array)] = self.array\n",
    "        n = len(new_array)\n",
    "\n",
    "        # Shift elements to the right\n",
    "        for idx in range(n - 2, i - 1, -1):\n",
    "            new_array[idx + 1] = new_array[idx]\n",
    "\n",
    "        new_array[i] = x\n",
    "        self.array = new_array  # Update self.array\n",
    "        return self.array\n",
    "        # insertion: best case O(1), worse case O(n) --> O(n)\n",
    "        # best case - one insertion needed only, worst case - iteration through whole array needed to update\n",
    "\n",
    "    def myIndex(self, x):\n",
    "        n = len(self.array)\n",
    "        for idx in range(n):\n",
    "            if self.array[idx] == x:\n",
    "                return idx\n",
    "        return -1  # If the key is not found\n",
    "        # search: best case O(1), worse case O(n) --> O(n)\n",
    "        # best case - one indexing search needed only, worst case - iteration through whole array needed to update\n",
    "\n",
    "    def myDelete(self, i):\n",
    "        n = len(self.array)\n",
    "\n",
    "        # Shift elements to the left\n",
    "        for idx in range(i + 1, n):\n",
    "            self.array[idx - 1] = self.array[idx]\n",
    "\n",
    "        self.array = self.array[:n - 1]  # Update self.array\n",
    "        return self.array\n",
    "        # deletion: best case O(1), worse case O(n) --> O(n)\n",
    "        # best case - one deletion needed only, worst case - iteration through whole array needed to update\n",
    "\n",
    "    def myRemove(self, x):\n",
    "        i = self.myIndex(x)\n",
    "        if i == -1:\n",
    "            print(\"Element not found.\")\n",
    "            return self.array\n",
    "\n",
    "        print(\"Element found at position:\", i)\n",
    "        self.myDelete(i)\n",
    "        return self.array\n",
    "        # removal: O(n) (search first, and then delete; O(n) + O(n))"
   ]
  },
  {
   "cell_type": "markdown",
   "metadata": {},
   "source": [
    "# Example 2\n",
    "\n",
    "Explore and compare the differences between Python lists and array data structures. Use online resources and feel free to utilize generative AI chatbots to aid in your understanding. Consider the following aspects in your exploration:\n",
    "\n",
    "* **Storage structure**: How do Python lists and arrays store data in memory? Are they contiguous or non-contiguous?\n",
    "* **Performance**: How do their performance characteristics differ for various operations such as indexing, insertion, and deletion?\n",
    "* **Type of elements**: Are Python lists and arrays restricted to a single data type, or can they store elements of mixed types? How does this affect performance?\n",
    "* **Dynamic vs Static**: How do Python lists (dynamic arrays) and static arrays differ in terms of resizing and memory allocation?\n",
    "* **Access and manipulation**: How do access and manipulation operations differ between Python lists and arrays?\n",
    "\n",
    "---\n",
    "\n",
    "Storage structure: \n",
    "\n",
    "Python Lists\n",
    "Memory Storage: Non-contiguous\n",
    "Implementation: Python lists are dynamic arrays implemented as an array of pointers to objects, not the actual data.\n",
    "Each element in a list points to a memory location where the actual object lives.\n",
    "The list itself holds these pointers in a contiguous block, but the actual objects can be scattered in memory.\n",
    "\n",
    "Arrays (from array module or NumPy)\n",
    "Memory Storage: Contiguous\n",
    "\n",
    "Standard array module:\n",
    "Stores data in a contiguous block of memory.\n",
    "All elements must be of the same type (e.g., all integers or floats).\n",
    "NumPy arrays:\n",
    "Also use contiguous memory for efficiency.\n",
    "Optimized for numerical computations and can interface with C for speed.<br><br>\n",
    "\n",
    "Performance: \n",
    "🔸 Indexing (arr[i])\n",
    "All three types offer constant-time (O(1)) random access via indexing because they use underlying array-like memory models.\n",
    "🔸 Insertion\n",
    "Python list: Fast when appending (append() is amortized O(1)), but inserting elsewhere shifts elements (O(n)).\n",
    "array.array: Similar to list, but type-checked and generally faster for large homogeneous data.\n",
    "NumPy array: Insertion is costly because NumPy arrays are fixed-size; inserting often requires copying the entire array.\n",
    "🔸 Deletion\n",
    "list.pop() from the end is O(1), but removing from the middle or start is O(n) due to shifting.\n",
    "array.array behaves similarly.\n",
    "NumPy: Deletion = creating a new array without the deleted item, so it's also O(n).\n",
    "<br><br>\n",
    "\n",
    "Type of elements: \n",
    "Lists can store multiple data types, and arrays can store only one data type. Arrays are thus more efficient, performance-wise.\n",
    "🔹 Python list\n",
    "Stores references (pointers) to objects.\n",
    "Each item can be a different type: int, str, float, even another list.\n",
    "Super flexible, but this costs performance:\n",
    "Accessing values means dereferencing pointers.\n",
    "CPU caches aren’t fully utilized due to scattered memory locations.\n",
    "Can't optimize operations like vector math.\n",
    "🔹 array.array\n",
    "Stores raw values in memory of a single data type (defined by a type code like 'i' for int).\n",
    "Much faster and more memory-efficient than lists for large homogeneous data.\n",
    "🔹 numpy.ndarray\n",
    "Generally expects one data type (dtype), e.g. int32, float64, etc.\n",
    "Can technically store mixed types using dtype=object, but:\n",
    "You lose all performance benefits.\n",
    "Becomes functionally similar to a Python list of objects.\n",
    "<br><br>\n",
    "\n",
    "Dynamic vs Static: \n",
    "Lists, or dynamic arrays, can be resized but are less memory-efficient. Static arrays have a fixed size, are inflexible, and need manual resizing.\n",
    "<br><br>\n",
    "\n",
    "Access and manipulation: \n",
    "Access is similar for lists and arrays, but manipulation is more efficient for lists because arrays have fixed sizes."
   ]
  },
  {
   "cell_type": "markdown",
   "metadata": {},
   "source": [
    "# Example 3\n",
    "\n",
    "Create a function that output unique elements in a given array. Unique means distinct elements. What is the time complexity of the algorithm?"
   ]
  },
  {
   "cell_type": "code",
   "execution_count": 6,
   "metadata": {},
   "outputs": [
    {
     "data": {
      "text/plain": [
       "[1, 2, 3, 4, 5, 6, 7]"
      ]
     },
     "execution_count": 6,
     "metadata": {},
     "output_type": "execute_result"
    }
   ],
   "source": [
    "def unique(arr):\n",
    "    unique_elements = []\n",
    "    for element in arr:\n",
    "        if element not in unique_elements:\n",
    "            unique_elements.append(element)\n",
    "    return unique_elements\n",
    "\n",
    "    #time complexity: O(n^2)\n",
    "\n",
    "a = [1, 2, 2, 3, 4, 5, 5, 6, 7, 7]\n",
    "unique(a)"
   ]
  },
  {
   "cell_type": "markdown",
   "metadata": {},
   "source": [
    "# Example 4\n",
    "\n",
    "Create a function that returns how many number of elements are odd and even elements in the array."
   ]
  },
  {
   "cell_type": "code",
   "execution_count": 7,
   "metadata": {},
   "outputs": [
    {
     "name": "stdout",
     "output_type": "stream",
     "text": [
      "Even: 4 , Odd: 6\n"
     ]
    }
   ],
   "source": [
    "def EvenOdd(arr):\n",
    "    even_count = 0\n",
    "    odd_count = 0\n",
    "    for element in arr:\n",
    "        if element % 2 == 0:\n",
    "            even_count += 1\n",
    "        else:\n",
    "            odd_count +=1\n",
    "    print(\"Even:\", even_count, \", Odd:\", odd_count)\n",
    "\n",
    "    # time complexity: O(n)\n",
    "\n",
    "a = [1, 2, 2, 3, 4, 5, 5, 6, 7, 7]\n",
    "EvenOdd(a)"
   ]
  }
 ],
 "metadata": {
  "kernelspec": {
   "display_name": "Python 3 (ipykernel)",
   "language": "python",
   "name": "python3"
  },
  "language_info": {
   "codemirror_mode": {
    "name": "ipython",
    "version": 3
   },
   "file_extension": ".py",
   "mimetype": "text/x-python",
   "name": "python",
   "nbconvert_exporter": "python",
   "pygments_lexer": "ipython3",
   "version": "3.12.3"
  },
  "widgets": {
   "application/vnd.jupyter.widget-state+json": {
    "state": {},
    "version_major": 2,
    "version_minor": 0
   }
  }
 },
 "nbformat": 4,
 "nbformat_minor": 4
}