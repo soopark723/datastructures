{
 "cells": [
  {
   "cell_type": "markdown",
   "metadata": {},
   "source": [
    "# Stacks"
   ]
  },
  {
   "cell_type": "markdown",
   "metadata": {},
   "source": [
    "# Class Definitions"
   ]
  },
  {
   "cell_type": "code",
   "execution_count": 1,
   "metadata": {},
   "outputs": [],
   "source": [
    "class ListNode:\n",
    "\tdef __init__(self, data, nextNode:\"ListNode\"):\n",
    "\t\tself.data = data\n",
    "\t\tself.next = nextNode"
   ]
  },
  {
   "cell_type": "code",
   "execution_count": 2,
   "metadata": {},
   "outputs": [],
   "source": [
    "class SimpleLinkedList:\n",
    "\tdef __init__(self):\n",
    "\t\tself.head = ListNode(data=\"dummy\", nextNode=None)\n",
    "\t\tself.numItems = 0\n",
    "\n",
    "\tdef append(self, data):\n",
    "\t\tprev = self.getNode(self.numItems-1)\n",
    "\t\tnewNode = ListNode(data, prev.next)\n",
    "\t\tprev.next = newNode\n",
    "\t\tself.numItems += 1\n",
    "\n",
    "\tdef insert(self, i:int, data):\n",
    "  \t\tif i >= 0 and i <= self.numItems:\n",
    "    \t\t\tprev = self.getNode(i - 1)\n",
    "    \t\t\tnewNode = ListNode(data, prev.next)\n",
    "    \t\t\tprev.next = newNode\n",
    "    \t\t\tself.numItems += 1\n",
    "  \t\telse:\n",
    "    \t\t\tprint(\"index\", i, \": out of bound in insert()\") \n",
    "\n",
    "\tdef pop(self, i:int):\n",
    "\t\tif (i >= 0 and i <= self.numItems-1):\n",
    "\t\t\tprev = self.getNode(i - 1)\n",
    "\t\t\tcurr = prev.next\n",
    "\t\t\tprev.next = curr.next\n",
    "\t\t\tretItem = curr.data\n",
    "\t\t\tself.numItems -= 1\n",
    "\t\t\treturn retItem\n",
    "\t\telse:\n",
    "\t\t\treturn None\n",
    "\n",
    "\tdef remove(self, x):\n",
    "  \t\ti = self.index(x)\n",
    "  \t\tif i != None:\n",
    "    \t\t\tprev = self.getNode(i - 1)\n",
    "    \t\t\tcurr = prev.next\n",
    "    \t\t\tprev.next = curr.next  \n",
    "    \t\t\tself.numItems -= 1\n",
    "  \t\telse:\n",
    "    \t\t\treturn None\n",
    "\n",
    "\tdef getNode(self, i:int) -> ListNode:\n",
    "\t\tcurr = self.head\n",
    "\t\tfor index in range(i+1):\n",
    "\t\t\tcurr = curr.next\n",
    "\t\treturn curr\n",
    "\n",
    "\tdef get(self, i:int):\n",
    "\t\tif self.isEmpty():\n",
    "\t\t\treturn None\n",
    "\t\tif (i >= 0 and i <= self.numItems - 1):\n",
    "\t\t\treturn self.getNode(i).data\n",
    "\t\telse:\n",
    "\t\t\treturn None\n",
    "\n",
    "\tdef printList(self):\n",
    "\t\tcurr = self.head.next\n",
    "\t\twhile curr != None:\n",
    "\t\t\tprint(curr.data, end = ' ')\n",
    "\t\t\tcurr = curr.next\n",
    "\t\tprint()\n",
    "\n",
    "\tdef extend(self, a:'SimpleLinkedList'):\n",
    "\t\tfor index in range(a.size()):\n",
    "\t\t\tself.append(a.get(index))\n",
    " \n",
    "\tdef copy(self):\n",
    "\t\ta = SimpleLinkedList()\n",
    "\t\tfor index in range(self.numItems):\n",
    "\t\t\ta.append(self.get(index))\n",
    "\t\treturn a\n",
    "\n",
    "\tdef reverse(self):\n",
    "\t\ta = SimpleLinkedList()\n",
    "\t\tfor index in range(self.numItems):\n",
    "\t\t\ta.insert(0, self.get(index))\n",
    "\t\tself.clear()\n",
    "\t\tfor index in range(a.size()):\n",
    "\t\t\tself.append(a.get(index))\n",
    "\n",
    "\tdef index(self, x):\n",
    "\t\tcurr = self.head.next\n",
    "\t\tfor index in range(self.numItems):\n",
    "\t\t\tif curr.data == x:\n",
    "\t\t\t\treturn index\n",
    "\t\t\telse:\n",
    "\t\t\t\tcurr = curr.next\n",
    "\t\treturn None\n",
    "\n",
    "\tdef isEmpty(self) -> bool:\n",
    "\t\treturn self.numItems == 0\n",
    "\n",
    "\tdef size(self) -> int:\n",
    "\t\treturn self.numItems\n",
    "\n",
    "\tdef clear(self):\n",
    "\t\tself.head = ListNode(\"dummy\", None)\n",
    "\t\tself.numItems = 0\n",
    "\n",
    "\tdef count(self, x) -> int:\n",
    "\t\tcnt = 0\n",
    "\t\tcurr = self.head.next \n",
    "\t\twhile curr != None:\n",
    "\t\t\tif curr.data == x:\n",
    "\t\t\t\t\tcnt += 1\n",
    "\t\t\tcurr = curr.next\n",
    "\t\treturn cnt\n",
    "\t\n",
    "\n",
    "# a = SimpleLinkedList()\n",
    "# a.append(1); a.append(3); a.append(5); a.append(7); a.append(11)\n",
    "# a.printList()\n",
    "# a.insert(4,9)\n",
    "# a.size()\n",
    "# a.isEmpty()\n",
    "# a.index(3)\n",
    "# a.pop(1)\n",
    "# a.printList()\n",
    "# a.remove(9)\n",
    "# a.printList()"
   ]
  },
  {
   "cell_type": "code",
   "execution_count": 3,
   "metadata": {},
   "outputs": [],
   "source": [
    "class ListStack:\n",
    "\tdef __init__(self):\n",
    "\t\tself.stack = []\n",
    "\n",
    "\tdef push(self, x):\n",
    "\t\tself.stack.append(x)\n",
    "\n",
    "\tdef pop(self):\n",
    "\t\treturn self.stack.pop()\n",
    "\n",
    "\tdef top(self):\n",
    "\t\tif self.isEmpty():\n",
    "\t\t\treturn None\n",
    "\t\telse:\n",
    "\t\t\treturn self.stack[-1]\n",
    "\n",
    "\tdef isEmpty(self) -> bool:\n",
    "\t\treturn len(self.stack) == 0\n",
    "\n",
    "\tdef size(self):\n",
    "  \t\treturn len(self.stack)\n",
    "\n",
    "\tdef printStack(self):\n",
    "\t\tprint(\"Elements from top to bottom: \")\n",
    "\t\tfor i in range(len(self.stack)-1, -1, -1):\n",
    "\t\t\tprint(self.stack[i], end = ' ')\n",
    "\t\tprint()"
   ]
  },
  {
   "cell_type": "code",
   "execution_count": 4,
   "metadata": {},
   "outputs": [],
   "source": [
    "class LinkedStack:\n",
    "\tdef __init__(self):\n",
    "\t\tself.stack = SimpleLinkedList()\n",
    "\n",
    "\tdef push(self, x):\n",
    "\t\tself.stack.insert(0, x)\n",
    "\n",
    "\tdef pop(self):\n",
    "\t\treturn self.stack.pop(0)\n",
    "\n",
    "\tdef top(self):\n",
    "\t\tif self.isEmpty():\n",
    "\t\t\treturn None\n",
    "\t\telse:\n",
    "\t\t\treturn self.stack.get(0)\n",
    "\n",
    "\tdef isEmpty(self) -> bool:\n",
    "\t\treturn self.stack.isEmpty()\n",
    "\n",
    "\tdef size(self):\n",
    "\t\treturn self.stack.size()\n",
    "\n",
    "\tdef printStack(self):\n",
    "\t\tprint(\"Elements from top to bottom: \", end=\" \")\n",
    "\t\tfor i in range(self.stack.size()):\n",
    "\t\t\tprint(self.stack.get(i), end=\" \")"
   ]
  },
  {
   "cell_type": "code",
   "execution_count": 5,
   "metadata": {},
   "outputs": [],
   "source": [
    "class ListQueue:\n",
    "\tdef __init__(self):\n",
    "\t\tself.queue = []\n",
    "\n",
    "\tdef enqueue(self, x): # insert an element to the end of the queue\n",
    "\t\tself.queue.append(x)\n",
    "\n",
    "\tdef dequeue(self): # remove an element from the front of the queue\n",
    "\t\treturn self.queue.pop(0) \n",
    "\n",
    "\tdef front(self): # returns the front node of the queue without deleting it\n",
    "\t\tif self.isEmpty():\n",
    "\t\t\treturn None\n",
    "\t\telse:\n",
    "\t\t\treturn self.queue[0]\n",
    "\n",
    "\tdef isEmpty(self) -> bool: # returns true if queue is empty, else false.\n",
    "\t\treturn (len(self.queue) == 0);\n",
    " \n",
    "\tdef dequeueAll(self): # clean the queue\n",
    "\t\tself.queue.clear()\n",
    "\n",
    "\tdef size(self): # length of the queue\n",
    "\t\treturn len(self.queue)\n",
    "\n",
    "\tdef printQueue(self): # print elements from front to end\n",
    "\t\tprint(\"Elements from front to end: \")\n",
    "\t\tfor i in range(len(self.queue)):\n",
    "\t\t\tprint(self.queue[i], end = ' ')"
   ]
  },
  {
   "cell_type": "markdown",
   "metadata": {},
   "source": [
    "## Stack"
   ]
  },
  {
   "cell_type": "code",
   "execution_count": 6,
   "metadata": {},
   "outputs": [
    {
     "name": "stdout",
     "output_type": "stream",
     "text": [
      "Elements from top to bottom: \n",
      "400 300 200 100 \n",
      "Top after pushes:  400\n",
      "Remove an element from top:  400\n",
      "Elements from top to bottom: \n",
      "300 200 100 \n",
      "Is the stack empty? False\n",
      "Number of element in the stack? 3\n",
      "Elements from top to bottom:  400 300 200 100 \n",
      "Top after pushes:  400\n",
      "Remove an element from top:  400\n",
      "Elements from top to bottom:  300 200 100 \n",
      "Is the stack empty? False\n",
      "Number of element in the stack? 3\n"
     ]
    }
   ],
   "source": [
    "stack = ListStack()\n",
    "stack.push(100); stack.push(200); stack.push(300); stack.push(400)\n",
    "stack.printStack()\n",
    "print(\"Top after pushes: \", stack.top())\n",
    "print(\"Remove an element from top: \", stack.pop())\n",
    "stack.printStack()\n",
    "print('Is the stack empty?', stack.isEmpty())\n",
    "print('Number of element in the stack?', stack.size())\n",
    "\n",
    "\n",
    "stack = LinkedStack()\n",
    "stack.push(100); stack.push(200); stack.push(300); stack.push(400)\n",
    "stack.printStack()\n",
    "print(\"\\nTop after pushes: \", stack.top())\n",
    "print(\"Remove an element from top: \", stack.pop())\n",
    "stack.printStack()\n",
    "print('\\nIs the stack empty?', stack.isEmpty())\n",
    "print('Number of element in the stack?', stack.size())"
   ]
  },
  {
   "cell_type": "markdown",
   "metadata": {},
   "source": [
    "# Exercises"
   ]
  },
  {
   "cell_type": "markdown",
   "metadata": {},
   "source": [
    "## Reverse: Stack\n",
    "\n",
    "1. Create a function that reverses the characters in a string using a stack, without modifying the original stack.\n",
    "2. Create a function that reverses a given stack using another stack.\n",
    "This function should modify the original stack.\n",
    "3. Add a second reverse() method to the ListStack class to implement the behavior described in (2)."
   ]
  },
  {
   "cell_type": "code",
   "execution_count": 7,
   "metadata": {},
   "outputs": [
    {
     "name": "stdout",
     "output_type": "stream",
     "text": [
      "Elements from top to bottom: \n",
      "400 300 200 100 \n"
     ]
    }
   ],
   "source": [
    "stack = ListStack()\n",
    "stack.push(100); stack.push(200); stack.push(300); stack.push(400)\n",
    "stack.printStack()"
   ]
  },
  {
   "cell_type": "code",
   "execution_count": 8,
   "metadata": {},
   "outputs": [
    {
     "name": "stdout",
     "output_type": "stream",
     "text": [
      "Elements from top to bottom: \n",
      "100 200 300 400 \n"
     ]
    }
   ],
   "source": [
    "# a function that reverses the characters in a string using a stack, without modifying the original stack.\n",
    "\n",
    "def reverse(original_stack):\n",
    "    reversed_stack = ListStack()\n",
    "    for i in range(original_stack.size()):\n",
    "        reversed_stack.push(original_stack.pop())\n",
    "    return reversed_stack\n",
    "\n",
    "rev_stack = reverse(stack)\n",
    "rev_stack.printStack()"
   ]
  },
  {
   "cell_type": "code",
   "execution_count": 9,
   "metadata": {},
   "outputs": [
    {
     "ename": "IndentationError",
     "evalue": "unexpected indent (2045883370.py, line 33)",
     "output_type": "error",
     "traceback": [
      "  \u001b[36mCell\u001b[39m\u001b[36m \u001b[39m\u001b[32mIn[9]\u001b[39m\u001b[32m, line 33\u001b[39m\n\u001b[31m    \u001b[39m\u001b[31mdef clone(self):\u001b[39m\n    ^\n\u001b[31mIndentationError\u001b[39m\u001b[31m:\u001b[39m unexpected indent\n"
     ]
    }
   ],
   "source": [
    "# A function that reverses a given stack using another stack. This function should modify the original stack.\n",
    "\n",
    "def insertAtBottom(stack, item):\n",
    "    if stack.isEmpty():\n",
    "        stack.push(item)\n",
    "    else:\n",
    "        temp = stack.pop()\n",
    "        insertAtBottom(stack, item)\n",
    "        stack.push(temp)\n",
    "\n",
    "def reverseInPlace(stack):\n",
    "    temp_stack = ListStack()\n",
    "\n",
    "    # Move all elements from stack to temp_stack\n",
    "    while not stack.isEmpty():\n",
    "        temp_stack.push(stack.pop())\n",
    "\n",
    "    # Move them back to the original stack\n",
    "    while not temp_stack.isEmpty():\n",
    "        item = temp_stack.pop()\n",
    "        insertAtBottom(stack, item)\n",
    "\n",
    "    return stack\n",
    "\n",
    "stack = ListStack()\n",
    "stack.push(100); stack.push(200); stack.push(300); stack.push(400)\n",
    "stack.printStack()\n",
    "\n",
    "print(\"\\nReversed (in-place) stack:\")\n",
    "reverseInPlace(stack)\n",
    "stack.printStack()\n",
    "\n",
    "    def clone(self):\n",
    "        new_stack = ListStack()\n",
    "        new_stack.stack = self.stack.copy()\n",
    "        return new_stack\n",
    "\n",
    "    def reverse(original_stack):\n",
    "        # Clone the stack to preserve the original\n",
    "        cloned_stack = original_stack.clone()\n",
    "        reversed_stack = ListStack()\n",
    "\n",
    "        # Reverse the cloned stack\n",
    "        while not cloned_stack.isEmpty():\n",
    "            reversed_stack.push(cloned_stack.pop())\n",
    "\n",
    "        return reversed_stack\n",
    "---\n",
    "\n",
    "    def insertAtBottom(stack, item):\n",
    "        if stack.isEmpty():\n",
    "            stack.push(item)\n",
    "        else:\n",
    "            temp = stack.pop()\n",
    "            insertAtBottom(stack, item)\n",
    "            stack.push(temp)\n",
    "\n",
    "    def reverseInPlace(stack):\n",
    "        if not stack.isEmpty():\n",
    "            temp = stack.pop()\n",
    "            reverseInPlace(stack)\n",
    "            insertAtBottom(stack, temp)"
   ]
  },
  {
   "cell_type": "markdown",
   "metadata": {},
   "source": [
    "## Websites Example"
   ]
  },
  {
   "cell_type": "code",
   "execution_count": null,
   "metadata": {},
   "outputs": [],
   "source": [
    "import webbrowser\n",
    "import time\n",
    "import sys\n",
    "stack = ListStack()\n",
    "urls = [ \"naver.com\", \"daum.net\", \"nate.com\"]\n",
    "# Browser history stacks up in the order in which you visit websites\n",
    "# push url of each visited websites to a stack\n",
    "for url in urls:\n",
    "  #stack.push(url)\n",
    "  # When you hit the back button, the previous URL is popped from the stack.\n",
    "  stack.append(url)\n",
    "\n",
    "while not len(stack)==0: # if stack is not empty\n",
    "  url = stack.pop() # pop the previous URL and open the browser\n",
    "  webbrowser.open('http://'+url)"
   ]
  }
 ],
 "metadata": {
  "kernelspec": {
   "display_name": "Python 3 (ipykernel)",
   "language": "python",
   "name": "python3"
  },
  "language_info": {
   "codemirror_mode": {
    "name": "ipython",
    "version": 3
   },
   "file_extension": ".py",
   "mimetype": "text/x-python",
   "name": "python",
   "nbconvert_exporter": "python",
   "pygments_lexer": "ipython3",
   "version": "3.12.3"
  },
  "widgets": {
   "application/vnd.jupyter.widget-state+json": {
    "state": {},
    "version_major": 2,
    "version_minor": 0
   }
  }
 },
 "nbformat": 4,
 "nbformat_minor": 4
}