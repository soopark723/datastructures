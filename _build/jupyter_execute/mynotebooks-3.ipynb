{
 "cells": [
  {
   "cell_type": "markdown",
   "metadata": {},
   "source": [
    "# Recursion"
   ]
  },
  {
   "cell_type": "markdown",
   "metadata": {},
   "source": [
    "# Exercises"
   ]
  },
  {
   "cell_type": "markdown",
   "metadata": {},
   "source": [
    "## Example 1: Fibonacci\n",
    "\n",
    "In the lecture, we showed the time complexity of the below algorithm for Fibonacci series is $O(2^n)$. In similar way, find Big Omega $\\Omega(\\cdot)$ of this algorithm."
   ]
  },
  {
   "cell_type": "markdown",
   "metadata": {},
   "source": [
    "### Recursion"
   ]
  },
  {
   "cell_type": "code",
   "execution_count": 1,
   "metadata": {},
   "outputs": [],
   "source": [
    "def fib_recursive(n):\n",
    "  if n < 0:\n",
    "    print(\"Incorrect input\")\n",
    "  elif n == 0:\n",
    "    return 0\n",
    "  elif n == 1 or n == 2:\n",
    "    return 1\n",
    "  else:\n",
    "    return fib_recursive(n-1)+fib_recursive(n-2)"
   ]
  },
  {
   "cell_type": "markdown",
   "metadata": {},
   "source": [
    "### Solution\n",
    "\n",
    "#### Time Complexity: Big O\n",
    "The function fib_recursive(n) calls itself twice for each input n > 2: The first call is fib_recursive(n-1); the second call is fib_recursive(n-2). This creates a binary recursion tree, where each level of the tree produces two recursive calls.\n",
    "\n",
    "Recursion Tree Structure: At the first level, the function is called with n. The second level involves two calls: fib_recursive(n-1) and fib_recursive(n-2). The third level has four calls: fib_recursive(n-2), fib_recursive(n-3), fib_recursive(n-3), and fib_recursive(n-4). This pattern continues until we reach the base cases (n == 0 or n == 1), which are the stopping conditions of the recursion. The number of calls grows exponentially. Specifically, for each call, there are two subsequent calls that are each evaluated recursively.\n",
    "\n",
    "The recurrence relation for the time complexity is approximately: T(n) = T(n−1) + T(n−2) + O(1), where the additional O(1) accounts for the constant time for checking conditions (n == 0, n == 1, n == 2).\n",
    "\n",
    "This recurrence has a solution that is exponential, specifically O(2^n). This means the function's time complexity grows exponentially with respect to n. \n",
    "Final Time Complexity (Big O): O(2^n).\n",
    "\n",
    "---\n",
    "\n",
    "#### Time Complexity: Big Ω\n",
    "Big Omega (Ω) represents the best-case time complexity, or the lower bound.\n",
    "For this recursive Fibonacci function: In the best-case scenario, the input n could be small (like n == 0 or n == 1), which would directly return a result without any recursion. In this case, the time complexity for fib_recursive(0) or fib_recursive(1) is O(1), which means only a constant amount of work is done. So, the Big Omega (Ω) time complexity for the best case is: Ω(1). This is the minimum amount of work done when n is small and reaches the base case immediately.\n",
    "\n",
    "---\n",
    "\n",
    "#### Space Complexity\n",
    "The space complexity is based on the depth of the recursion stack since each recursive call adds a new frame to the stack.\n",
    "In the worst case, the recursion depth is equal to n (for example, when the input is a large number like n = 100).\n",
    "So, the space complexity is O(n) due to the recursive calls that go as deep as n."
   ]
  },
  {
   "cell_type": "markdown",
   "metadata": {},
   "source": [
    "## Example 2: Factorial"
   ]
  },
  {
   "cell_type": "markdown",
   "metadata": {},
   "source": [
    "* Write functions that calculates the factorial of n (i.e., n!)\n",
    "  - Approach 1: Using For loop\n",
    "  - Approach 2: Using Recursive algorithm\n",
    "\n",
    "$$\n",
    "\\begin{align*}\n",
    "n!=\n",
    "\\begin{cases}\n",
    "  1 & \\text{if $n < 1$}\\\\\n",
    "  n*(n-1)! & \\text{if $n \\ge 1$}\n",
    "\\end{cases}    \n",
    "\\end{align*}\n",
    "$$\n",
    "\n",
    "* Time complexity analysis\n",
    "  - Provide comparison of both practical (e.g. for n=600) and theoretical time complexity analysis for each approach"
   ]
  },
  {
   "cell_type": "markdown",
   "metadata": {},
   "source": [
    "### Solution"
   ]
  },
  {
   "cell_type": "code",
   "execution_count": 2,
   "metadata": {},
   "outputs": [
    {
     "name": "stdout",
     "output_type": "stream",
     "text": [
      "Time for iterative approach: 0.0 minutes\n",
      "Time for recursive approach: 0.0 minutes\n"
     ]
    }
   ],
   "source": [
    "def factorial_for(num):\n",
    "  if num < 0:\n",
    "    return \"Undefined\"\n",
    "  result = 1\n",
    "  for x in range(num, 0, -1):         # or for num in range(1, num+1, 1)       # O(n)\n",
    "    result *= x\n",
    "  return result\n",
    "\n",
    "def factorial_recursive(num):\n",
    "  if num <= 1:\n",
    "    return 1\n",
    "  else:\n",
    "    return num * factorial_recursive(num - 1)        # O(n) * O(1)\n",
    "\n",
    "import time\n",
    "start_time = time.time()\n",
    "factorial_for(600)\n",
    "time_for = time.time() - start_time\n",
    "\n",
    "start_time = time.time()\n",
    "factorial_recursive(600)\n",
    "time_recursive = time.time() - start_time\n",
    "\n",
    "print(\"Time for iterative approach:\", round(time_for, 4), \"minutes\")\n",
    "print(\"Time for recursive approach:\", round(time_recursive, 4), \"minutes\")"
   ]
  },
  {
   "cell_type": "markdown",
   "metadata": {},
   "source": [
    "## Example 3: Gugu-dan\n",
    "\n",
    "We can write an iterative algorithm that prints out a multiplication table (i.e., gugu-dan) as below. Write a recursive algorithm for the gugu-dan. For example, 'Table of 3' should print the following. What is the Big O of the gugu-dan algorithms?\n",
    "\n",
    "### Solution"
   ]
  },
  {
   "cell_type": "code",
   "execution_count": 3,
   "metadata": {},
   "outputs": [
    {
     "name": "stdout",
     "output_type": "stream",
     "text": [
      "3 x 1 = 3\n",
      "3 x 2 = 6\n",
      "3 x 3 = 9\n",
      "3 x 4 = 12\n",
      "3 x 5 = 15\n",
      "3 x 6 = 18\n",
      "3 x 7 = 21\n",
      "3 x 8 = 24\n",
      "3 x 9 = 27\n",
      "\n",
      "\n",
      "3 x 1 = 3\n",
      "3 x 2 = 6\n",
      "3 x 3 = 9\n",
      "3 x 4 = 12\n",
      "3 x 5 = 15\n",
      "3 x 6 = 18\n",
      "3 x 7 = 21\n",
      "3 x 8 = 24\n",
      "3 x 9 = 27\n"
     ]
    }
   ],
   "source": [
    "# Iterative\n",
    "def gugu_iterative(dan):\n",
    "    for num in range(1, 10):\n",
    "        print(\"%d x %d = %d\" % (dan, num, dan * num))\n",
    "gugu_iterative(3)\n",
    "\n",
    "print(\"\\n\")\n",
    "\n",
    "# Recursive\n",
    "def gugu_recursive(dan, num=1):\n",
    "  if num > 9:\n",
    "    return\n",
    "  print(\"%d x %d = %d\" % (dan, num, dan * num))\n",
    "  gugu_recursive(dan, num+1)\n",
    "gugu_recursive(3)"
   ]
  },
  {
   "cell_type": "markdown",
   "metadata": {},
   "source": [
    "Time Complexity of gugu_iterative:\n",
    "The function has a single loop that runs from num = 1 to num = 9 (inclusive), which means it performs 9 iterations.\n",
    "Inside each iteration, it prints the result of dan * num, and each print operation takes O(1) time.\n",
    "The loop runs a constant number of times (9), regardless of the size of the input dan.\n",
    "Time Complexity: O(1) because the loop runs a fixed number of times (9).\n",
    "Since the number of iterations is constant (9), the time complexity is constant, or O(1).\n",
    "\n",
    "---\n",
    "\n",
    "Time Complexity of gugu_recursive:\n",
    "The recursive function calls itself starting from num = 1 and increments num by 1 with each call until num reaches 10.\n",
    "This results in a total of 9 recursive calls (since it stops when num > 9).\n",
    "Each recursive call performs O(1) work (printing the multiplication result).\n",
    "The number of recursive calls is proportional to the range from 1 to 9, which is a constant number of calls (9).\n",
    "Time Complexity: O(1) because the number of recursive calls is fixed (9).\n",
    "\n",
    "---\n",
    "\n",
    "Summary\n",
    "\n",
    "- Iterative version: The time complexity is O(1) because the loop runs a fixed number of times (9 iterations).\n",
    "- Recursive version: The time complexity is also O(1) because the recursion depth is constant (9 recursive calls).\n",
    "\n",
    "Both functions have constant time complexity O(1) because they operate over a fixed number of iterations or recursive calls (9)."
   ]
  },
  {
   "cell_type": "markdown",
   "metadata": {},
   "source": [
    "## Example 4: Fibonacci O(n)\n",
    "\n",
    "Can you write an algorithm for the Fibonacci series with a time complexity of $O(n)$ instead of $O(2^n)$? For example, Fibonacci sequence up to the 10th term (index 0 to 10) is $[0, 1, 1, 2, 3, 5, 8, 13, 21, 34, 55]$.\n",
    "\n",
    "Hint: [Helpful resource](https://chanos.tistory.com/entry/%EC%9E%90%EB%A3%8C%EA%B5%AC%EC%A1%B0-%ED%94%BC%EB%B3%B4%EB%82%98%EC%B9%98-%EC%88%98%EC%97%B4%EC%9D%98-%EC%8B%9C%EA%B0%84-%EB%B3%B5%EC%9E%A1%EB%8F%84-%EC%99%84%EB%B2%BD%ED%9E%88-%EC%9D%B4%ED%95%B4%ED%95%98%EA%B8%B0)\n",
    "\n",
    "### Solution"
   ]
  },
  {
   "cell_type": "code",
   "execution_count": 4,
   "metadata": {},
   "outputs": [
    {
     "name": "stdout",
     "output_type": "stream",
     "text": [
      "fib_recursive:  55\n",
      "fib_iterative:  55\n"
     ]
    }
   ],
   "source": [
    "def fib_iterative(n):\n",
    "    if n < 0:\n",
    "        return \"Incorrect input\"\n",
    "    elif n == 0:\n",
    "        return 0\n",
    "    elif n == 1 or n == 2:\n",
    "        return 1\n",
    "    prev_prev, prev = 1, 1 \n",
    "    for _ in range(3, n + 1):\n",
    "        current = prev + prev_prev\n",
    "        prev_prev, prev = prev, current\n",
    "    \n",
    "    return prev\n",
    "\n",
    "print(\"fib_recursive: \", fib_recursive(10))\n",
    "print(\"fib_iterative: \", fib_iterative(10))"
   ]
  },
  {
   "cell_type": "markdown",
   "metadata": {},
   "source": [
    "Initialize two variables, a and b, to represent fib(0) and fib(1) (ex.: 0 and 1).\n",
    "We use a loop that starts from 2 and goes up to n, updating a and b in each iteration to compute the next Fibonacci number.\n",
    "At the end of the loop, b will contain the nth Fibonacci number.\n",
    "\n",
    "Time Complexity: O(n) because we only iterate through the loop n-1 times, and each iteration takes constant time.\n",
    "Space Complexity: O(1) because we only use a constant amount of extra space for the two variables a and b."
   ]
  },
  {
   "cell_type": "code",
   "execution_count": 5,
   "metadata": {},
   "outputs": [],
   "source": [
    "def fib_iterative2(n):\n",
    "    if n <= 1:\n",
    "        return n\n",
    "\n",
    "    # Starting values for Fibonacci series\n",
    "    a, b = 0, 1\n",
    "\n",
    "    # Compute Fibonacci numbers iteratively\n",
    "    for _ in range(2, n + 1):\n",
    "        a, b = b, a + b\n",
    "\n",
    "    return b"
   ]
  },
  {
   "cell_type": "code",
   "execution_count": 6,
   "metadata": {},
   "outputs": [
    {
     "data": {
      "text/plain": [
       "55"
      ]
     },
     "execution_count": 6,
     "metadata": {},
     "output_type": "execute_result"
    }
   ],
   "source": [
    "fib_iterative2(10)"
   ]
  },
  {
   "cell_type": "markdown",
   "metadata": {},
   "source": [
    "## Practice With Recursive Functions"
   ]
  },
  {
   "cell_type": "markdown",
   "metadata": {},
   "source": [
    "### Sum of First \"n\" Numbers"
   ]
  },
  {
   "cell_type": "code",
   "execution_count": 7,
   "metadata": {},
   "outputs": [
    {
     "name": "stdout",
     "output_type": "stream",
     "text": [
      "6\n",
      "15\n",
      "36\n"
     ]
    }
   ],
   "source": [
    "def sum_n(n):\n",
    "    if n == 0:\n",
    "        return 0\n",
    "    return n + sum_n(n - 1)\n",
    "\n",
    "print(sum_n(3))\n",
    "print(sum_n(5))\n",
    "print(sum_n(8))"
   ]
  }
 ],
 "metadata": {
  "kernelspec": {
   "display_name": "my-python3-kernel",
   "language": "python",
   "name": "my-python3-kernel"
  },
  "language_info": {
   "codemirror_mode": {
    "name": "ipython",
    "version": 3
   },
   "file_extension": ".py",
   "mimetype": "text/x-python",
   "name": "python",
   "nbconvert_exporter": "python",
   "pygments_lexer": "ipython3",
   "version": "3.12.7"
  },
  "widgets": {
   "application/vnd.jupyter.widget-state+json": {
    "state": {},
    "version_major": 2,
    "version_minor": 0
   }
  }
 },
 "nbformat": 4,
 "nbformat_minor": 4
}