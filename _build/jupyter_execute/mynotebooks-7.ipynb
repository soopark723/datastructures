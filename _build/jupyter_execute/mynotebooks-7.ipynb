{
 "cells": [
  {
   "cell_type": "markdown",
   "metadata": {},
   "source": [
    "# Queues"
   ]
  },
  {
   "cell_type": "markdown",
   "metadata": {},
   "source": [
    "# Class Definitions"
   ]
  },
  {
   "cell_type": "code",
   "execution_count": 1,
   "metadata": {},
   "outputs": [],
   "source": [
    "class ListNode:\n",
    "\tdef __init__(self, data, nextNode:\"ListNode\"):\n",
    "\t\tself.data = data\n",
    "\t\tself.next = nextNode"
   ]
  },
  {
   "cell_type": "code",
   "execution_count": 2,
   "metadata": {},
   "outputs": [],
   "source": [
    "class SimpleLinkedList:\n",
    "\tdef __init__(self):\n",
    "\t\tself.head = ListNode(data=\"dummy\", nextNode=None)\n",
    "\t\tself.numItems = 0\n",
    "\n",
    "\tdef append(self, data):\n",
    "\t\tprev = self.getNode(self.numItems-1)\n",
    "\t\tnewNode = ListNode(data, prev.next)\n",
    "\t\tprev.next = newNode\n",
    "\t\tself.numItems += 1\n",
    "\n",
    "\tdef insert(self, i:int, data):\n",
    "  \t\tif i >= 0 and i <= self.numItems:\n",
    "    \t\t\tprev = self.getNode(i - 1)\n",
    "    \t\t\tnewNode = ListNode(data, prev.next)\n",
    "    \t\t\tprev.next = newNode\n",
    "    \t\t\tself.numItems += 1\n",
    "  \t\telse:\n",
    "    \t\t\tprint(\"index\", i, \": out of bound in insert()\") \n",
    "\n",
    "\tdef pop(self, i:int):\n",
    "\t\tif (i >= 0 and i <= self.numItems-1):\n",
    "\t\t\tprev = self.getNode(i - 1)\n",
    "\t\t\tcurr = prev.next\n",
    "\t\t\tprev.next = curr.next\n",
    "\t\t\tretItem = curr.data\n",
    "\t\t\tself.numItems -= 1\n",
    "\t\t\treturn retItem\n",
    "\t\telse:\n",
    "\t\t\treturn None\n",
    "\n",
    "\tdef remove(self, x):\n",
    "  \t\ti = self.index(x)\n",
    "  \t\tif i != None:\n",
    "    \t\t\tprev = self.getNode(i - 1)\n",
    "    \t\t\tcurr = prev.next\n",
    "    \t\t\tprev.next = curr.next  \n",
    "    \t\t\tself.numItems -= 1\n",
    "  \t\telse:\n",
    "    \t\t\treturn None\n",
    "\n",
    "\tdef getNode(self, i:int) -> ListNode:\n",
    "\t\tcurr = self.head\n",
    "\t\tfor index in range(i+1):\n",
    "\t\t\tcurr = curr.next\n",
    "\t\treturn curr\n",
    "\n",
    "\tdef get(self, i:int):\n",
    "\t\tif self.isEmpty():\n",
    "\t\t\treturn None\n",
    "\t\tif (i >= 0 and i <= self.numItems - 1):\n",
    "\t\t\treturn self.getNode(i).data\n",
    "\t\telse:\n",
    "\t\t\treturn None\n",
    "\n",
    "\tdef printList(self):\n",
    "\t\tcurr = self.head.next\n",
    "\t\twhile curr != None:\n",
    "\t\t\tprint(curr.data, end = ' ')\n",
    "\t\t\tcurr = curr.next\n",
    "\t\tprint()\n",
    "\n",
    "\tdef extend(self, a:'SimpleLinkedList'):\n",
    "\t\tfor index in range(a.size()):\n",
    "\t\t\tself.append(a.get(index))\n",
    " \n",
    "\tdef copy(self):\n",
    "\t\ta = SimpleLinkedList()\n",
    "\t\tfor index in range(self.numItems):\n",
    "\t\t\ta.append(self.get(index))\n",
    "\t\treturn a\n",
    "\n",
    "\tdef reverse(self):\n",
    "\t\ta = SimpleLinkedList()\n",
    "\t\tfor index in range(self.numItems):\n",
    "\t\t\ta.insert(0, self.get(index))\n",
    "\t\tself.clear()\n",
    "\t\tfor index in range(a.size()):\n",
    "\t\t\tself.append(a.get(index))\n",
    "\n",
    "\tdef index(self, x):\n",
    "\t\tcurr = self.head.next\n",
    "\t\tfor index in range(self.numItems):\n",
    "\t\t\tif curr.data == x:\n",
    "\t\t\t\treturn index\n",
    "\t\t\telse:\n",
    "\t\t\t\tcurr = curr.next\n",
    "\t\treturn None\n",
    "\n",
    "\tdef isEmpty(self) -> bool:\n",
    "\t\treturn self.numItems == 0\n",
    "\n",
    "\tdef size(self) -> int:\n",
    "\t\treturn self.numItems\n",
    "\n",
    "\tdef clear(self):\n",
    "\t\tself.head = ListNode(\"dummy\", None)\n",
    "\t\tself.numItems = 0\n",
    "\n",
    "\tdef count(self, x) -> int:\n",
    "\t\tcnt = 0\n",
    "\t\tcurr = self.head.next \n",
    "\t\twhile curr != None:\n",
    "\t\t\tif curr.data == x:\n",
    "\t\t\t\t\tcnt += 1\n",
    "\t\t\tcurr = curr.next\n",
    "\t\treturn cnt"
   ]
  },
  {
   "cell_type": "code",
   "execution_count": 3,
   "metadata": {},
   "outputs": [],
   "source": [
    "class CircularLinkedList:\n",
    "\tdef __init__(self):\n",
    "\t\tself.tail = ListNode(\"dummy\", None)\n",
    "\t\tself.tail.next = self.tail\n",
    "\t\tself.numItems = 0\n",
    "\n",
    "\tdef insert(self, i:int, data) -> None:\n",
    "\t\tif (i >= 0 and i <= self.numItems):\n",
    "\t\t\tprev = self.getNode(i - 1)\n",
    "\t\t\tnewNode = ListNode(data, prev.next)\n",
    "\t\t\tprev.next = newNode\n",
    "\t\t\tif i == self.numItems:\n",
    "\t\t\t\tself.tail = newNode\n",
    "\t\t\tself.numItems += 1\n",
    "\t\telse:\n",
    "\t\t\tprint(\"index\", i, \": out of bound in insert()\")\n",
    "\n",
    "\tdef append(self, data) -> None:\n",
    "\t\tnewNode = ListNode(data, self.tail.next)\n",
    "\t\tself.tail.next = newNode\n",
    "\t\tself.tail = newNode\n",
    "\t\tself.numItems += 1\n",
    "\n",
    "\tdef pop(self, i:int):\n",
    "\t\tif self.isEmpty():\n",
    "\t\t\treturn None\n",
    "\t\tif i == -1:\n",
    "\t\t\ti = self.numItems - 1\n",
    "\t\tif (i >= 0 and i <= self.numItems - 1):\n",
    "\t\t\tprev = self.getNode(i - 1)\n",
    "\t\t\tretItem = prev.next.data\n",
    "\t\t\tprev.next = prev.next.next\n",
    "\t\t\tif i == self.numItems - 1:\t\n",
    "\t\t\t\tself.tail = prev\t\t  \n",
    "\t\t\tself.numItems -= 1\n",
    "\t\t\treturn retItem\n",
    "\t\telse:\n",
    "\t\t\treturn None\n",
    "\n",
    "\tdef remove(self, x):\n",
    "\t\t(prev, curr) = self.findNode(x)\n",
    "\t\tif curr != None:\n",
    "\t\t\tprev.next = curr.next\n",
    "\t\t\tif curr == self.tail:\t \n",
    "\t\t\t\tself.tail = prev\t  \n",
    "\t\t\tself.numItems -= 1\n",
    "\t\t\treturn x\n",
    "\t\telse:\n",
    "\t\t\treturn None\n",
    "\n",
    "\tdef get(self, i):\n",
    "\t\tif self.isEmpty():\n",
    "\t\t\treturn None\n",
    "\t\tif i == -1:\n",
    "\t\t\ti = self.numItems - 1\n",
    "\t\tif (i >= 0 and i <= self.numItems - 1):\n",
    "\t\t\treturn self.getNode(i).data\n",
    "\t\telse:\n",
    "\t\t\treturn None\n",
    "\n",
    "\tdef index(self, x) -> int:\n",
    "\t\tcnt = 0\n",
    "\t\tfor element in self:\n",
    "\t\t\tif element == x:\n",
    "\t\t\t\treturn cnt\n",
    "\t\t\tcnt += 1\n",
    "\t\treturn -12345\n",
    "\n",
    "\tdef isEmpty(self) -> bool:\n",
    "\t\treturn self.numItems == 0\n",
    "\n",
    "\tdef size(self) -> int:\n",
    "\t\treturn self.numItems\n",
    "\n",
    "\tdef clear(self):\n",
    "\t\tself.tail = ListNode(\"dummy\", None)\n",
    "\t\tself.tail.next = self.tail\n",
    "\t\tself.numItems = 0\n",
    "\n",
    "\tdef count(self, x) -> int:\n",
    "\t\tcnt = 0\n",
    "\t\tfor element in self:\n",
    "\t\t\tif element == x:\n",
    "\t\t\t\t\tcnt += 1\n",
    "\t\treturn cnt\n",
    "\n",
    "\tdef extend(self, a):\n",
    "\t\tfor x in a:\n",
    "\t\t\tself.append(x)\n",
    " \n",
    "\tdef copy(self) -> b'CircularLinkedList':\n",
    "\t\ta = CircularLinkedList()\n",
    "\t\tfor element in self:\n",
    "\t\t\ta.append(element)\n",
    "\t\treturn a\n",
    "\n",
    "\tdef reverse(self) -> None:\n",
    "\t\thead = self.tail.next\n",
    "\t\tprev = head; curr = prev.next; next = curr.next\n",
    "\t\tcurr.next = head; head.next = self.tail; self.tail = curr\n",
    "\t\tfor i in range(self.numItems - 1):\n",
    "\t\t\tprev = curr; curr = next; next = next.next\n",
    "\t\t\tcurr.next = prev\n",
    "\n",
    "\tdef sort(self) -> None:\n",
    "\t\ta = []\n",
    "\t\tfor element in self:\n",
    "\t\t\ta.append(element)\n",
    "\t\ta.sort() \n",
    "\t\tself.clear()\n",
    "\t\tfor element in a:\n",
    "\t\t\tself.append(element)\n",
    "\n",
    "\tdef findNode(self, x) -> (ListNode, ListNode):\n",
    "\t\thead = prev = self.tail.next\n",
    "\t\tcurr = prev.next\n",
    "\t\twhile curr != head:\n",
    "\t\t\tif curr.data == x:\n",
    "\t\t\t\treturn (prev, curr)\n",
    "\t\t\telse:\n",
    "\t\t\t\tprev = curr; curr = curr.next\n",
    "\t\treturn (None, None)\n",
    " \n",
    "\tdef getNode(self, i:int) -> ListNode:\n",
    "\t\tcurr = self.tail.next\n",
    "\t\tfor index in range(i+1):\n",
    "\t\t\tcurr = curr.next\n",
    "\t\treturn curr\n",
    "\n",
    "\tdef printList(self):\n",
    "\t\tcurr = self.tail.next\n",
    "\t\tcurr = curr.next\n",
    "\t\twhile curr.data != \"dummy\":\n",
    "\t\t\tprint(curr.data, end = ' ')\n",
    "\t\t\tcurr = curr.next\n",
    "\t\tprint()"
   ]
  },
  {
   "cell_type": "code",
   "execution_count": 4,
   "metadata": {},
   "outputs": [],
   "source": [
    "class ListStack:\n",
    "\tdef __init__(self):\n",
    "\t\tself.stack = []\n",
    "\n",
    "\tdef push(self, x):\n",
    "\t\tself.stack.append(x)\n",
    "\n",
    "\tdef pop(self):\n",
    "\t\treturn self.stack.pop()\n",
    "\n",
    "\tdef top(self):\n",
    "\t\tif self.isEmpty():\n",
    "\t\t\treturn None\n",
    "\t\telse:\n",
    "\t\t\treturn self.stack[-1]\n",
    "\n",
    "\tdef isEmpty(self) -> bool:\n",
    "\t\treturn len(self.stack) == 0\n",
    "\n",
    "\tdef size(self):\n",
    "  \t\treturn len(self.stack)\n",
    "\n",
    "\tdef printStack(self):\n",
    "\t\tprint(\"Elements from top to bottom: \")\n",
    "\t\tfor i in range(len(self.stack)-1, -1, -1):\n",
    "\t\t\tprint(self.stack[i], end = ' ')\n",
    "\t\tprint()"
   ]
  },
  {
   "cell_type": "code",
   "execution_count": 5,
   "metadata": {},
   "outputs": [],
   "source": [
    "class ListQueue:\n",
    "\tdef __init__(self):\n",
    "\t\tself.queue = []\n",
    "\n",
    "\tdef enqueue(self, x): # insert an element to the end of the queue\n",
    "\t\tself.queue.append(x)\n",
    "\n",
    "\tdef dequeue(self): # remove an element from the front of the queue\n",
    "\t\treturn self.queue.pop(0) \n",
    "\n",
    "\tdef front(self): # returns the front node of the queue without deleting it\n",
    "\t\tif self.isEmpty():\n",
    "\t\t\treturn None\n",
    "\t\telse:\n",
    "\t\t\treturn self.queue[0]\n",
    "\n",
    "\tdef isEmpty(self) -> bool: \n",
    "\t\treturn (len(self.queue) == 0);\n",
    " \n",
    "\tdef dequeueAll(self): \n",
    "\t\tself.queue.clear()\n",
    "\n",
    "\tdef size(self): \n",
    "\t\treturn len(self.queue)\n",
    "\n",
    "\tdef printQueue(self):\n",
    "\t\tprint(\"Elements from front to end: \")\n",
    "\t\tfor i in range(len(self.queue)):\n",
    "\t\t\tprint(self.queue[i], end = ' ')"
   ]
  },
  {
   "cell_type": "code",
   "execution_count": 6,
   "metadata": {},
   "outputs": [],
   "source": [
    "class LinkedQueue:\n",
    "    def __init__(self):\n",
    "        self.queue = CircularLinkedList()\n",
    "\n",
    "    def enqueue(self, x):\n",
    "        self.queue.append(x)\n",
    "\n",
    "    def dequeue(self):\n",
    "        if self.isEmpty():\n",
    "            return None\n",
    "        return self.queue.pop(0)\n",
    "\n",
    "    def front(self):\n",
    "        if self.isEmpty():\n",
    "            return None\n",
    "        return self.queue.get(0)\n",
    "\n",
    "    def isEmpty(self) -> bool:\n",
    "        return self.queue.isEmpty()\n",
    "\n",
    "    def dequeueAll(self):\n",
    "        self.queue.clear()\n",
    "\n",
    "    def size(self):\n",
    "        return len(self.queue)\n",
    "\n",
    "    def printQueue(self):\n",
    "        print(\"Elements from front to end:\")\n",
    "        for i in range(self.queue.size()):\n",
    "            print(self.queue.get(i), end=' ')\n",
    "        print()"
   ]
  },
  {
   "cell_type": "markdown",
   "metadata": {},
   "source": [
    "## Queue"
   ]
  },
  {
   "cell_type": "code",
   "execution_count": 7,
   "metadata": {},
   "outputs": [
    {
     "name": "stdout",
     "output_type": "stream",
     "text": [
      "Elements from front to end: \n",
      "Mon Tue Wed Thurs Fri \n",
      "Dequeue: remove an element from the front of the queue:  Mon\n",
      "Elements from front to end: \n",
      "Tue Wed Thurs Fri "
     ]
    }
   ],
   "source": [
    "queue = ListQueue()\n",
    "queue.enqueue(\"Mon\"); queue.enqueue(\"Tue\"); queue.enqueue(\"Wed\"); queue.enqueue(\"Thurs\"); queue.enqueue(\"Fri\")\n",
    "queue.printQueue()\n",
    "print(\"\\nDequeue: remove an element from the front of the queue: \", queue.dequeue())\n",
    "queue.printQueue()"
   ]
  },
  {
   "cell_type": "markdown",
   "metadata": {},
   "source": [
    "# Exercises"
   ]
  },
  {
   "cell_type": "code",
   "execution_count": 8,
   "metadata": {},
   "outputs": [
    {
     "name": "stdout",
     "output_type": "stream",
     "text": [
      "Mon Tue Wed Thurs Fri \n",
      "\n",
      "Dequeue: remove an element from the front of the queue:  Mon\n",
      "Tue Wed Thurs Fri \n"
     ]
    }
   ],
   "source": [
    "class LinkedQueue:\n",
    "\tdef __init__(self):\n",
    "\t\tself.queue = CircularLinkedList()\n",
    "\n",
    "\tdef enqueue(self, x): # insert an element to the end of the queue\n",
    "\t\tself.queue.append(x)\n",
    "\n",
    "\tdef dequeue(self): # remove an element from the front of the queue\n",
    "\t\treturn self.queue.pop(0)\n",
    "\n",
    "\tdef front(self): # returns the front node of the queue without deleting it\n",
    "\t\treturn self.queue.get(0)\n",
    "\n",
    "\tdef isEmpty(self) -> bool: # returns true if queue is empty, else false.\n",
    "\t\treturn self.queue.isEmpty()\n",
    "\n",
    "\tdef dequeueAll(self): # clean the queue\n",
    "\t\tself.queue.clear()\n",
    "\n",
    "\tdef size(self): # find size of the queue\n",
    "\t\treturn len(self.queue)\n",
    "\n",
    "\tdef printQueue(self): # print elements from front to end\n",
    "\t\tfor i in range(self.queue.size()):\n",
    "\t\t\tprint(self.queue.get(i), end = ' ')\n",
    "\t\tprint()\n",
    "\n",
    "queue = LinkedQueue()\n",
    "queue.enqueue(\"Mon\"); queue.enqueue(\"Tue\"); queue.enqueue(\"Wed\"); queue.enqueue(\"Thurs\"); queue.enqueue(\"Fri\")\n",
    "queue.printQueue()\n",
    "print(\"\\nDequeue: remove an element from the front of the queue: \", queue.dequeue())\n",
    "queue.printQueue()"
   ]
  },
  {
   "cell_type": "markdown",
   "metadata": {},
   "source": [
    "## Reverse: Queue\n",
    "\n",
    "1. Suppose you have a queue. Create a function that reverses individual characters in a string using a queue. This time make the original queue to be reversed.\n",
    "2. Try to add `reverse()` method to the ListQueue class."
   ]
  },
  {
   "cell_type": "code",
   "execution_count": 9,
   "metadata": {},
   "outputs": [
    {
     "name": "stdout",
     "output_type": "stream",
     "text": [
      "Mon Tue Wed Thurs Fri \n"
     ]
    }
   ],
   "source": [
    "queue = LinkedQueue()\n",
    "queue.enqueue(\"Mon\"); queue.enqueue(\"Tue\"); queue.enqueue(\"Wed\"); queue.enqueue(\"Thurs\"); queue.enqueue(\"Fri\")\n",
    "queue.printQueue()"
   ]
  },
  {
   "cell_type": "code",
   "execution_count": 10,
   "metadata": {},
   "outputs": [
    {
     "name": "stdout",
     "output_type": "stream",
     "text": [
      "Fri Thurs Wed Tue Mon \n"
     ]
    }
   ],
   "source": [
    "def reverseQueue(queue):\n",
    "    stack = []\n",
    "    while not queue.isEmpty():\n",
    "        stack.append(queue.dequeue())\n",
    "    while stack:\n",
    "        queue.enqueue(stack.pop())\n",
    "\n",
    "reverseQueue(queue)\n",
    "queue.printQueue()"
   ]
  },
  {
   "cell_type": "markdown",
   "metadata": {},
   "source": [
    "## Palindrome\n",
    "\n",
    "*   Palindrome is word, phrase, or sequence that reads the same backward as forward (e.g. madam, mom, kayak). Write a function that checks if a string is palindrome using stack and queue data structure."
   ]
  },
  {
   "cell_type": "code",
   "execution_count": 11,
   "metadata": {},
   "outputs": [
    {
     "name": "stdout",
     "output_type": "stream",
     "text": [
      "civic is Palindrome?:  True\n"
     ]
    }
   ],
   "source": [
    "def isPalindrome(word):\n",
    "    stack = ListStack()\n",
    "    queue = ListQueue()\n",
    "    for i in range(len(word)):\n",
    "        stack.push(word[i])\n",
    "        queue.enqueue(word[i])\n",
    "    while not stack.isEmpty():\n",
    "        if stack.pop() != queue.dequeue():\n",
    "            return False\n",
    "    return True\n",
    "\n",
    "str = 'civic'\n",
    "print(str, \"is Palindrome?: \", isPalindrome(str))"
   ]
  },
  {
   "cell_type": "markdown",
   "metadata": {},
   "source": [
    "## Queue Example"
   ]
  },
  {
   "cell_type": "code",
   "execution_count": 12,
   "metadata": {},
   "outputs": [],
   "source": [
    "# select = input(\"Choose one of the followings (I/D/X): Insert(I)/Delete(D)/Exit(X) ==> \")\n",
    "# queue = ListQueue()\n",
    "# while (select != \"X\" and select != \"x\"):\n",
    "#   if select==\"I\" or select ==\"i\" :\n",
    "#     data = input(\"Type Input Data ==> \")\n",
    "#     queue.enqueue(data)\n",
    "#     print(queue.size(), \"number of elements, front : \", queue.front(), \", rear : \", queue.queue[queue.size()-1])\n",
    "#   elif select==\"D\" or select ==\"d\":\n",
    "#     print(\"Dequeue: removed an element from the front of the queue: \", queue.dequeue())\n",
    "#     print(queue.size(), \"number of elements, front : \", queue.front(), \", rear : \", queue.queue[queue.size()-1])\n",
    "#   else :\n",
    "#     print(\"Wrong Insertion - should choose on of the followings (I/D/X): Insert(I)/Delete(D)/Exit(X)\")\n",
    "#     select = input(\"Choose one of the followings (I/D/X): Insert(I)/Delete(D)/Exit(X) ==> \")\n",
    "#     print(\"Terminate the program!\")"
   ]
  },
  {
   "cell_type": "markdown",
   "metadata": {},
   "source": [
    "## Practice With Queues"
   ]
  },
  {
   "cell_type": "markdown",
   "metadata": {},
   "source": [
    "### Swap Elements in a Linked Queue"
   ]
  },
  {
   "cell_type": "code",
   "execution_count": 13,
   "metadata": {},
   "outputs": [],
   "source": [
    "def swap_queue_elements(queue, value1, value2):\n",
    "    temp_list = []\n",
    "\n",
    "    while not queue.isEmpty():\n",
    "        item = queue.dequeue()\n",
    "        temp_list.append(item)\n",
    "\n",
    "    index1 = None\n",
    "    index2 = None\n",
    "\n",
    "    for i, item in enumerate(temp_list):\n",
    "        if item == value1 and index1 is None:\n",
    "            index1 = i\n",
    "        elif item == value2 and index2 is None:\n",
    "            index2 = i\n",
    "\n",
    "    if index1 is not None and index2 is not None:\n",
    "        temp_list[index1], temp_list[index2] = temp_list[index2], temp_list[index1]\n",
    "    else:\n",
    "        print(\"One or both values not found in queue.\")\n",
    "\n",
    "    for item in temp_list:\n",
    "        queue.enqueue(item)"
   ]
  },
  {
   "cell_type": "code",
   "execution_count": 14,
   "metadata": {},
   "outputs": [
    {
     "name": "stdout",
     "output_type": "stream",
     "text": [
      "Red Orange Yellow Green Blue \n",
      "After swapping 'Red' and 'Blue':\n",
      "Blue Orange Yellow Green Red \n"
     ]
    }
   ],
   "source": [
    "queue = LinkedQueue()\n",
    "queue.enqueue(\"Red\")\n",
    "queue.enqueue(\"Orange\")\n",
    "queue.enqueue(\"Yellow\")\n",
    "queue.enqueue(\"Green\")\n",
    "queue.enqueue(\"Blue\")\n",
    "\n",
    "queue.printQueue()\n",
    "\n",
    "swap_queue_elements(queue, \"Red\", \"Blue\")\n",
    "\n",
    "print(\"After swapping 'Red' and 'Blue':\")\n",
    "queue.printQueue()"
   ]
  }
 ],
 "metadata": {
  "kernelspec": {
   "display_name": "my-python3-kernel",
   "language": "python",
   "name": "my-python3-kernel"
  },
  "language_info": {
   "codemirror_mode": {
    "name": "ipython",
    "version": 3
   },
   "file_extension": ".py",
   "mimetype": "text/x-python",
   "name": "python",
   "nbconvert_exporter": "python",
   "pygments_lexer": "ipython3",
   "version": "3.12.7"
  },
  "widgets": {
   "application/vnd.jupyter.widget-state+json": {
    "state": {},
    "version_major": 2,
    "version_minor": 0
   }
  }
 },
 "nbformat": 4,
 "nbformat_minor": 4
}