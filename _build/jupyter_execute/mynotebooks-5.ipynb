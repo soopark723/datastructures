{
 "cells": [
  {
   "cell_type": "markdown",
   "metadata": {},
   "source": [
    "# Linked Lists"
   ]
  },
  {
   "cell_type": "markdown",
   "metadata": {},
   "source": [
    "# Class Definitions"
   ]
  },
  {
   "cell_type": "code",
   "execution_count": 1,
   "metadata": {},
   "outputs": [],
   "source": [
    "class ListNode:\n",
    "\tdef __init__(self, data, nextNode:\"ListNode\"):\n",
    "\t\tself.data = data\n",
    "\t\tself.next = nextNode"
   ]
  },
  {
   "cell_type": "code",
   "execution_count": 2,
   "metadata": {},
   "outputs": [],
   "source": [
    "class SimpleLinkedList:\n",
    "\tdef __init__(self):\n",
    "\t\tself.head = ListNode(data=\"dummy\", nextNode=None)\n",
    "\t\tself.numItems = 0\n",
    "\n",
    "\tdef append(self, data):\n",
    "\t\tprev = self.getNode(self.numItems-1)\n",
    "\t\tnewNode = ListNode(data, prev.next)\n",
    "\t\tprev.next = newNode\n",
    "\t\tself.numItems += 1\n",
    "\n",
    "\tdef insert(self, i:int, data):\n",
    "  \t\tif i >= 0 and i <= self.numItems:\n",
    "    \t\t\tprev = self.getNode(i - 1)\n",
    "    \t\t\tnewNode = ListNode(data, prev.next)\n",
    "    \t\t\tprev.next = newNode\n",
    "    \t\t\tself.numItems += 1\n",
    "  \t\telse:\n",
    "    \t\t\tprint(\"index\", i, \": out of bound in insert()\") \n",
    "\n",
    "\tdef pop(self, i:int):\n",
    "\t\tif (i >= 0 and i <= self.numItems-1):\n",
    "\t\t\tprev = self.getNode(i - 1)\n",
    "\t\t\tcurr = prev.next\n",
    "\t\t\tprev.next = curr.next\n",
    "\t\t\tretItem = curr.data\n",
    "\t\t\tself.numItems -= 1\n",
    "\t\t\treturn retItem\n",
    "\t\telse:\n",
    "\t\t\treturn None\n",
    "\n",
    "\tdef remove(self, x):\n",
    "  \t\ti = self.index(x)\n",
    "  \t\tif i != None:\n",
    "    \t\t\tprev = self.getNode(i - 1)\n",
    "    \t\t\tcurr = prev.next\n",
    "    \t\t\tprev.next = curr.next  \n",
    "    \t\t\tself.numItems -= 1\n",
    "  \t\telse:\n",
    "    \t\t\treturn None\n",
    "\n",
    "\tdef getNode(self, i:int) -> ListNode:\n",
    "\t\tcurr = self.head\n",
    "\t\tfor index in range(i+1):\n",
    "\t\t\tcurr = curr.next\n",
    "\t\treturn curr\n",
    "\n",
    "\tdef get(self, i:int):\n",
    "\t\tif self.isEmpty():\n",
    "\t\t\treturn None\n",
    "\t\tif (i >= 0 and i <= self.numItems - 1):\n",
    "\t\t\treturn self.getNode(i).data\n",
    "\t\telse:\n",
    "\t\t\treturn None\n",
    "\n",
    "\tdef printList(self):\n",
    "\t\tcurr = self.head.next\n",
    "\t\twhile curr != None:\n",
    "\t\t\tprint(curr.data, end = ' ')\n",
    "\t\t\tcurr = curr.next\n",
    "\t\tprint()\n",
    "\n",
    "\tdef extend(self, a:'SimpleLinkedList'):\n",
    "\t\tfor index in range(a.size()):\n",
    "\t\t\tself.append(a.get(index))\n",
    " \n",
    "\tdef copy(self):\n",
    "\t\ta = SimpleLinkedList()\n",
    "\t\tfor index in range(self.numItems):\n",
    "\t\t\ta.append(self.get(index))\n",
    "\t\treturn a\n",
    "\n",
    "\tdef reverse(self):\n",
    "\t\ta = SimpleLinkedList()\n",
    "\t\tfor index in range(self.numItems):\n",
    "\t\t\ta.insert(0, self.get(index))\n",
    "\t\tself.clear()\n",
    "\t\tfor index in range(a.size()):\n",
    "\t\t\tself.append(a.get(index))\n",
    "\n",
    "\tdef index(self, x):\n",
    "\t\tcurr = self.head.next\n",
    "\t\tfor index in range(self.numItems):\n",
    "\t\t\tif curr.data == x:\n",
    "\t\t\t\treturn index\n",
    "\t\t\telse:\n",
    "\t\t\t\tcurr = curr.next\n",
    "\t\treturn None\n",
    "\n",
    "\tdef isEmpty(self) -> bool:\n",
    "\t\treturn self.numItems == 0\n",
    "\n",
    "\tdef size(self) -> int:\n",
    "\t\treturn self.numItems\n",
    "\n",
    "\tdef clear(self):\n",
    "\t\tself.head = ListNode(\"dummy\", None)\n",
    "\t\tself.numItems = 0\n",
    "\n",
    "\tdef count(self, x) -> int:\n",
    "\t\tcnt = 0\n",
    "\t\tcurr = self.head.next \n",
    "\t\twhile curr != None:\n",
    "\t\t\tif curr.data == x:\n",
    "\t\t\t\t\tcnt += 1\n",
    "\t\t\tcurr = curr.next\n",
    "\t\treturn cnt"
   ]
  },
  {
   "cell_type": "code",
   "execution_count": 3,
   "metadata": {},
   "outputs": [],
   "source": [
    "class CircularLinkedList:\n",
    "\tdef __init__(self):\n",
    "\t\tself.tail = ListNode(\"dummy\", None)\n",
    "\t\tself.tail.next = self.tail\n",
    "\t\tself.numItems = 0\n",
    "\n",
    "\tdef insert(self, i:int, data) -> None:\n",
    "\t\tif (i >= 0 and i <= self.numItems):\n",
    "\t\t\tprev = self.getNode(i - 1)\n",
    "\t\t\tnewNode = ListNode(data, prev.next)\n",
    "\t\t\tprev.next = newNode\n",
    "\t\t\tif i == self.numItems:\n",
    "\t\t\t\tself.tail = newNode\n",
    "\t\t\tself.numItems += 1\n",
    "\t\telse:\n",
    "\t\t\tprint(\"index\", i, \": out of bound in insert()\")\n",
    "\n",
    "\tdef append(self, data) -> None:\n",
    "\t\tnewNode = ListNode(data, self.tail.next)\n",
    "\t\tself.tail.next = newNode\n",
    "\t\tself.tail = newNode\n",
    "\t\tself.numItems += 1\n",
    "\n",
    "\tdef pop(self, i:int):\n",
    "\t\tif self.isEmpty():\n",
    "\t\t\treturn None\n",
    "\t\tif i == -1:\n",
    "\t\t\ti = self.numItems - 1\n",
    "\t\tif (i >= 0 and i <= self.numItems - 1):\n",
    "\t\t\tprev = self.getNode(i - 1)\n",
    "\t\t\tretItem = prev.next.data\n",
    "\t\t\tprev.next = prev.next.next\n",
    "\t\t\tif i == self.numItems - 1:\t\n",
    "\t\t\t\tself.tail = prev\t\t  \n",
    "\t\t\tself.numItems -= 1\n",
    "\t\t\treturn retItem\n",
    "\t\telse:\n",
    "\t\t\treturn None\n",
    "\n",
    "\tdef remove(self, x):\n",
    "\t\t(prev, curr) = self.findNode(x)\n",
    "\t\tif curr != None:\n",
    "\t\t\tprev.next = curr.next\n",
    "\t\t\tif curr == self.tail:\t \n",
    "\t\t\t\tself.tail = prev\t  \n",
    "\t\t\tself.numItems -= 1\n",
    "\t\t\treturn x\n",
    "\t\telse:\n",
    "\t\t\treturn None\n",
    "\n",
    "\tdef get(self, i):\n",
    "\t\tif self.isEmpty():\n",
    "\t\t\treturn None\n",
    "\t\tif i == -1:\n",
    "\t\t\ti = self.numItems - 1\n",
    "\t\tif (i >= 0 and i <= self.numItems - 1):\n",
    "\t\t\treturn self.getNode(i).data\n",
    "\t\telse:\n",
    "\t\t\treturn None\n",
    "\n",
    "\tdef index(self, x) -> int:\n",
    "\t\tcnt = 0\n",
    "\t\tfor element in self:\n",
    "\t\t\tif element == x:\n",
    "\t\t\t\treturn cnt\n",
    "\t\t\tcnt += 1\n",
    "\t\treturn -12345\n",
    "\n",
    "\tdef isEmpty(self) -> bool:\n",
    "\t\treturn self.numItems == 0\n",
    "\n",
    "\tdef size(self) -> int:\n",
    "\t\treturn self.numItems\n",
    "\n",
    "\tdef clear(self):\n",
    "\t\tself.tail = ListNode(\"dummy\", None)\n",
    "\t\tself.tail.next = self.tail\n",
    "\t\tself.numItems = 0\n",
    "\n",
    "\tdef count(self, x) -> int:\n",
    "\t\tcnt = 0\n",
    "\t\tfor element in self:\n",
    "\t\t\tif element == x:\n",
    "\t\t\t\t\tcnt += 1\n",
    "\t\treturn cnt\n",
    "\n",
    "\tdef extend(self, a):\n",
    "\t\tfor x in a:\n",
    "\t\t\tself.append(x)\n",
    " \n",
    "\tdef copy(self) -> b'CircularLinkedList':\n",
    "\t\ta = CircularLinkedList()\n",
    "\t\tfor element in self:\n",
    "\t\t\ta.append(element)\n",
    "\t\treturn a\n",
    "\n",
    "\tdef reverse(self) -> None:\n",
    "\t\thead = self.tail.next\n",
    "\t\tprev = head; curr = prev.next; next = curr.next\n",
    "\t\tcurr.next = head; head.next = self.tail; self.tail = curr\n",
    "\t\tfor i in range(self.numItems - 1):\n",
    "\t\t\tprev = curr; curr = next; next = next.next\n",
    "\t\t\tcurr.next = prev\n",
    "\n",
    "\tdef sort(self) -> None:\n",
    "\t\ta = []\n",
    "\t\tfor element in self:\n",
    "\t\t\ta.append(element)\n",
    "\t\ta.sort() \n",
    "\t\tself.clear()\n",
    "\t\tfor element in a:\n",
    "\t\t\tself.append(element)\n",
    "\n",
    "\tdef findNode(self, x) -> (ListNode, ListNode):\n",
    "\t\thead = prev = self.tail.next\n",
    "\t\tcurr = prev.next\n",
    "\t\twhile curr != head:\n",
    "\t\t\tif curr.data == x:\n",
    "\t\t\t\treturn (prev, curr)\n",
    "\t\t\telse:\n",
    "\t\t\t\tprev = curr; curr = curr.next\n",
    "\t\treturn (None, None)\n",
    " \n",
    "\tdef getNode(self, i:int) -> ListNode:\n",
    "\t\tcurr = self.tail.next\n",
    "\t\tfor index in range(i+1):\n",
    "\t\t\tcurr = curr.next\n",
    "\t\treturn curr\n",
    "\n",
    "\tdef printList(self):\n",
    "\t\tcurr = self.tail.next\n",
    "\t\tcurr = curr.next\n",
    "\t\twhile curr.data != \"dummy\":\n",
    "\t\t\tprint(curr.data, end = ' ')\n",
    "\t\t\tcurr = curr.next\n",
    "\t\tprint()"
   ]
  },
  {
   "cell_type": "code",
   "execution_count": 4,
   "metadata": {},
   "outputs": [
    {
     "name": "stdout",
     "output_type": "stream",
     "text": [
      "<__main__.ListNode object at 0x0000028D7B0A7380>\n",
      "5\n",
      "None\n"
     ]
    }
   ],
   "source": [
    "a = ListNode(data=5, nextNode=None)\n",
    "print(a)\n",
    "print(a.data)\n",
    "print(a.next)"
   ]
  },
  {
   "cell_type": "markdown",
   "metadata": {},
   "source": [
    "## Append, Insert"
   ]
  },
  {
   "cell_type": "code",
   "execution_count": 5,
   "metadata": {},
   "outputs": [
    {
     "name": "stdout",
     "output_type": "stream",
     "text": [
      "Elements in the linked list: after adding 5 elements\n",
      "5 4 3 2 1 \n",
      "Elements in the linked list after inserting 10 in index 2: \n",
      "5 4 10 3 2 1 \n"
     ]
    }
   ],
   "source": [
    "a = SimpleLinkedList()\n",
    "print(\"Elements in the linked list: after adding 5 elements\" )\n",
    "a.append(5); a.append(4); a.append(3); a.append(2); a.append(1)\n",
    "a.printList()\n",
    "\n",
    "print(\"Elements in the linked list after inserting 10 in index 2: \" )\n",
    "a.insert(2,10)\n",
    "a.printList()\n",
    "\n",
    "# number of items = number of nodes"
   ]
  },
  {
   "cell_type": "markdown",
   "metadata": {},
   "source": [
    "## getNode"
   ]
  },
  {
   "cell_type": "code",
   "execution_count": 6,
   "metadata": {},
   "outputs": [
    {
     "name": "stdout",
     "output_type": "stream",
     "text": [
      "[1, 2, 3, 4, 5, 6]\n",
      "Elements in the linked list: \n",
      "5 4 3 2 1 \n",
      "Elements in the linked list: \n",
      "5 4 3 2 1 <__main__.SimpleLinkedList object at 0x0000028D7B4540B0> \n",
      "Element in the 3rd index node of the linked list: \n"
     ]
    },
    {
     "data": {
      "text/plain": [
       "2"
      ]
     },
     "execution_count": 6,
     "metadata": {},
     "output_type": "execute_result"
    }
   ],
   "source": [
    "a = [1, 2, 3]\n",
    "b = [4, 5, 6]\n",
    "# a.append(b)\n",
    "a.extend(b)\n",
    "print(a)\n",
    "\n",
    "a = SimpleLinkedList()\n",
    "a.append(5); a.append(4); a.append(3); a.append(2); a.append(1)\n",
    "print(\"Elements in the linked list: \" )\n",
    "a.printList()\n",
    "\n",
    "b = SimpleLinkedList()\n",
    "b.append(2); b.append(4); b.append(6); b.append(8); b.append(10)\n",
    "a.append(b)\n",
    "print(\"Elements in the linked list: \" )\n",
    "a.printList()\n",
    "\n",
    "print(\"Element in the 3rd index node of the linked list: \" )\n",
    "b = a.getNode(3)\n",
    "b.data"
   ]
  },
  {
   "cell_type": "markdown",
   "metadata": {},
   "source": [
    "## Remove"
   ]
  },
  {
   "cell_type": "code",
   "execution_count": 7,
   "metadata": {},
   "outputs": [
    {
     "name": "stdout",
     "output_type": "stream",
     "text": [
      "Elements in the linked list: \n",
      "1 9 3 5 7 9 11 \n",
      "Elements in the linked list after removal: \n",
      "1 3 5 7 9 11 \n"
     ]
    }
   ],
   "source": [
    "a = SimpleLinkedList()\n",
    "a.append(1); a.append(3); a.append(5); a.append(7); a.append(11)\n",
    "a.insert(4,9)\n",
    "a.insert(1,9)\n",
    "print(\"Elements in the linked list: \" )\n",
    "a.printList()\n",
    "a.remove(9)   # only first 9 gets removed, second 9 is still there\n",
    "print(\"Elements in the linked list after removal: \" )\n",
    "a.printList()"
   ]
  },
  {
   "cell_type": "markdown",
   "metadata": {},
   "source": [
    "## Append, Insert, getNode"
   ]
  },
  {
   "cell_type": "code",
   "execution_count": 8,
   "metadata": {},
   "outputs": [
    {
     "name": "stdout",
     "output_type": "stream",
     "text": [
      "Elements in the linked list: \n",
      "5 4 3 2 1 \n",
      "Elements in the linked list: \n",
      "5 4 3 10 2 1 \n",
      "Element in the 3rd index of the linked list: \n"
     ]
    },
    {
     "data": {
      "text/plain": [
       "10"
      ]
     },
     "execution_count": 8,
     "metadata": {},
     "output_type": "execute_result"
    }
   ],
   "source": [
    "a = CircularLinkedList()\n",
    "a.append(5); a.append(4); a.append(3); a.append(2); a.append(1)\n",
    "print(\"Elements in the linked list: \" )\n",
    "a.printList()\n",
    "\n",
    "print(\"Elements in the linked list: \" )\n",
    "a.insert(3,10)\n",
    "a.printList()\n",
    "\n",
    "print(\"Element in the 3rd index of the linked list: \" )\n",
    "b = a.getNode(3)\n",
    "b.data"
   ]
  },
  {
   "cell_type": "markdown",
   "metadata": {},
   "source": [
    "## Pop"
   ]
  },
  {
   "cell_type": "code",
   "execution_count": 9,
   "metadata": {},
   "outputs": [
    {
     "name": "stdout",
     "output_type": "stream",
     "text": [
      "Elements in the linked list: \n",
      "5 4 3 2 1 \n",
      "Remove an element in the 4th index:  1\n",
      "Element in the linked list after removal of 4th index: \n",
      "5 4 3 2 \n"
     ]
    }
   ],
   "source": [
    "a = CircularLinkedList()\n",
    "a.append(5); a.append(4); a.append(3); a.append(2); a.append(1)\n",
    "print(\"Elements in the linked list: \" )\n",
    "a.printList()\n",
    "print(\"Remove an element in the 4th index: \", a.pop(4) )\n",
    "print(\"Element in the linked list after removal of 4th index: \" )\n",
    "a.printList()"
   ]
  },
  {
   "cell_type": "markdown",
   "metadata": {},
   "source": [
    "## Get"
   ]
  },
  {
   "cell_type": "code",
   "execution_count": 10,
   "metadata": {},
   "outputs": [
    {
     "name": "stdout",
     "output_type": "stream",
     "text": [
      "Elements in the linked list: \n",
      "5 4 3 2 1 \n",
      "Get an element in the 4th index:  1\n",
      "Element in the linked list after using get: \n",
      "5 4 3 2 1 \n"
     ]
    }
   ],
   "source": [
    "a = CircularLinkedList()\n",
    "a.append(5); a.append(4); a.append(3); a.append(2); a.append(1)\n",
    "print(\"Elements in the linked list: \" )\n",
    "a.printList()\n",
    "print(\"Get an element in the 4th index: \", a.get(4) )\n",
    "print(\"Element in the linked list after using get: \" )\n",
    "a.printList()"
   ]
  },
  {
   "cell_type": "markdown",
   "metadata": {},
   "source": [
    "# Exercises"
   ]
  },
  {
   "cell_type": "markdown",
   "metadata": {},
   "source": [
    "## Explore Other Methods in SinglyLinkedList and CircularLinkedList Class"
   ]
  },
  {
   "cell_type": "code",
   "execution_count": 11,
   "metadata": {},
   "outputs": [
    {
     "name": "stdout",
     "output_type": "stream",
     "text": [
      "1 3 1 3 200 \n"
     ]
    }
   ],
   "source": [
    "s = SimpleLinkedList()\n",
    "s.append(1); s.append(3); s.append(1); s.append(3); s.append(200)\n",
    "s.printList()"
   ]
  },
  {
   "cell_type": "code",
   "execution_count": 12,
   "metadata": {},
   "outputs": [
    {
     "name": "stdout",
     "output_type": "stream",
     "text": [
      "False\n"
     ]
    }
   ],
   "source": [
    "print(s.isEmpty())"
   ]
  },
  {
   "cell_type": "code",
   "execution_count": 13,
   "metadata": {},
   "outputs": [
    {
     "name": "stdout",
     "output_type": "stream",
     "text": [
      "5\n"
     ]
    }
   ],
   "source": [
    "size = s.size()\n",
    "print(size)"
   ]
  },
  {
   "cell_type": "code",
   "execution_count": 14,
   "metadata": {},
   "outputs": [
    {
     "name": "stdout",
     "output_type": "stream",
     "text": [
      "2\n",
      "1\n",
      "0\n"
     ]
    }
   ],
   "source": [
    "count1 = s.count(3)\n",
    "print(count1)\n",
    "count2 = s.count(200)\n",
    "print(count2)\n",
    "count3 = s.count(2)\n",
    "print(count3)"
   ]
  },
  {
   "cell_type": "code",
   "execution_count": 15,
   "metadata": {},
   "outputs": [
    {
     "data": {
      "text/plain": [
       "200"
      ]
     },
     "execution_count": 15,
     "metadata": {},
     "output_type": "execute_result"
    }
   ],
   "source": [
    "s.get(4)"
   ]
  },
  {
   "cell_type": "code",
   "execution_count": 16,
   "metadata": {},
   "outputs": [
    {
     "name": "stdout",
     "output_type": "stream",
     "text": [
      "200 3 1 3 1 \n",
      "1 3 1 3 200 \n"
     ]
    }
   ],
   "source": [
    "s.reverse()\n",
    "s.printList()\n",
    "s.reverse()\n",
    "s.printList()"
   ]
  },
  {
   "cell_type": "code",
   "execution_count": 17,
   "metadata": {},
   "outputs": [
    {
     "name": "stdout",
     "output_type": "stream",
     "text": [
      "1 3 1 3 200 \n",
      "1 3 1 3 200 13 \n",
      "1 3 1 3 200 \n"
     ]
    }
   ],
   "source": [
    "copy_s = s.copy()\n",
    "copy_s.printList()\n",
    "copy_s.append(13)\n",
    "copy_s.printList()\n",
    "s.printList()"
   ]
  },
  {
   "cell_type": "code",
   "execution_count": 18,
   "metadata": {},
   "outputs": [
    {
     "name": "stdout",
     "output_type": "stream",
     "text": [
      "1 3 1 3 200 \n",
      "4\n",
      "None\n"
     ]
    }
   ],
   "source": [
    "s.printList()\n",
    "print(s.index(200))\n",
    "print(s.index(100))"
   ]
  },
  {
   "cell_type": "code",
   "execution_count": 19,
   "metadata": {},
   "outputs": [
    {
     "name": "stdout",
     "output_type": "stream",
     "text": [
      "2 4 2 4 13 \n",
      "False\n"
     ]
    }
   ],
   "source": [
    "c = CircularLinkedList()\n",
    "c.append(2); c.append(4); c.append(2); c.append(4); c.append(13)\n",
    "c.printList()\n",
    "print(c.isEmpty())"
   ]
  },
  {
   "cell_type": "code",
   "execution_count": 20,
   "metadata": {},
   "outputs": [
    {
     "name": "stdout",
     "output_type": "stream",
     "text": [
      "5\n"
     ]
    }
   ],
   "source": [
    "size = c.size()\n",
    "print(size)"
   ]
  },
  {
   "cell_type": "code",
   "execution_count": 21,
   "metadata": {},
   "outputs": [
    {
     "name": "stdout",
     "output_type": "stream",
     "text": [
      "4 2 4 13 \n",
      "2 4 13 \n"
     ]
    }
   ],
   "source": [
    "c.pop(0)  # element at index 0 taken out\n",
    "c.printList()\n",
    "c.remove(4)  # first 4 removed\n",
    "c.printList()"
   ]
  },
  {
   "cell_type": "markdown",
   "metadata": {},
   "source": [
    "## Practice With Linked Lists"
   ]
  },
  {
   "cell_type": "markdown",
   "metadata": {},
   "source": [
    "### Add a Method: Find the Middle Node"
   ]
  },
  {
   "cell_type": "code",
   "execution_count": 22,
   "metadata": {},
   "outputs": [],
   "source": [
    "class SimpleLinkedList:\n",
    "    def __init__(self):\n",
    "        self.head = ListNode(data=\"dummy\", nextNode=None)\n",
    "        self.numItems = 0\n",
    "\n",
    "    def append(self, data):\n",
    "        prev = self.getNode(self.numItems - 1)\n",
    "        newNode = ListNode(data, prev.next)\n",
    "        prev.next = newNode\n",
    "        self.numItems += 1\n",
    "\n",
    "    def insert(self, i: int, data):\n",
    "        if i >= 0 and i <= self.numItems:\n",
    "            prev = self.getNode(i - 1)\n",
    "            newNode = ListNode(data, prev.next)\n",
    "            prev.next = newNode\n",
    "            self.numItems += 1\n",
    "        else:\n",
    "            print(\"index\", i, \": out of bound in insert()\") \n",
    "\n",
    "    def pop(self, i: int):\n",
    "        if 0 <= i < self.numItems:\n",
    "            prev = self.getNode(i - 1)\n",
    "            curr = prev.next\n",
    "            prev.next = curr.next\n",
    "            retItem = curr.data\n",
    "            self.numItems -= 1\n",
    "            return retItem\n",
    "        else:\n",
    "            return None\n",
    "\n",
    "    def remove(self, x):\n",
    "        i = self.index(x)\n",
    "        if i is not None:\n",
    "            prev = self.getNode(i - 1)\n",
    "            curr = prev.next\n",
    "            prev.next = curr.next  \n",
    "            self.numItems -= 1\n",
    "        else:\n",
    "            return None\n",
    "\n",
    "    def getNode(self, i: int) -> ListNode:\n",
    "        curr = self.head\n",
    "        for _ in range(i + 1):\n",
    "            curr = curr.next\n",
    "        return curr\n",
    "\n",
    "    def get(self, i: int):\n",
    "        if self.isEmpty():\n",
    "            return None\n",
    "        if 0 <= i < self.numItems:\n",
    "            return self.getNode(i).data\n",
    "        else:\n",
    "            return None\n",
    "\n",
    "    def printList(self):\n",
    "        curr = self.head.next\n",
    "        while curr:\n",
    "            print(curr.data, end=' ')\n",
    "            curr = curr.next\n",
    "        print()\n",
    "\n",
    "    def extend(self, a: 'SimpleLinkedList'):\n",
    "        for index in range(a.size()):\n",
    "            self.append(a.get(index))\n",
    " \n",
    "    def copy(self):\n",
    "        a = SimpleLinkedList()\n",
    "        for index in range(self.numItems):\n",
    "            a.append(self.get(index))\n",
    "        return a\n",
    "\n",
    "    def reverse(self):\n",
    "        a = SimpleLinkedList()\n",
    "        for index in range(self.numItems):\n",
    "            a.insert(0, self.get(index))\n",
    "        self.clear()\n",
    "        for index in range(a.size()):\n",
    "            self.append(a.get(index))\n",
    "\n",
    "    def index(self, x):\n",
    "        curr = self.head.next\n",
    "        for index in range(self.numItems):\n",
    "            if curr.data == x:\n",
    "                return index\n",
    "            curr = curr.next\n",
    "        return None\n",
    "\n",
    "    def isEmpty(self) -> bool:\n",
    "        return self.numItems == 0\n",
    "\n",
    "    def size(self) -> int:\n",
    "        return self.numItems\n",
    "\n",
    "    def clear(self):\n",
    "        self.head = ListNode(\"dummy\", None)\n",
    "        self.numItems = 0\n",
    "\n",
    "    def count(self, x) -> int:\n",
    "        cnt = 0\n",
    "        curr = self.head.next \n",
    "        while curr:\n",
    "            if curr.data == x:\n",
    "                cnt += 1\n",
    "            curr = curr.next\n",
    "        return cnt\n",
    "\n",
    "    # 🔥 new method: get middle node's data\n",
    "    def get_middle(self):\n",
    "        if self.isEmpty():\n",
    "            print(\"List is empty.\")\n",
    "            return None\n",
    "        slow = self.head.next  # start from first real node\n",
    "        fast = self.head.next\n",
    "        while fast and fast.next:\n",
    "            slow = slow.next\n",
    "            fast = fast.next.next\n",
    "        return slow.data"
   ]
  },
  {
   "cell_type": "code",
   "execution_count": 23,
   "metadata": {},
   "outputs": [
    {
     "name": "stdout",
     "output_type": "stream",
     "text": [
      "10 20 30 40 50 \n",
      "Middle: 30\n"
     ]
    }
   ],
   "source": [
    "sll = SimpleLinkedList()\n",
    "for n in [10, 20, 30, 40, 50]:\n",
    "    sll.append(n)\n",
    "\n",
    "sll.printList()           # output: 10 20 30 40 50\n",
    "print(\"Middle:\", sll.get_middle())  # output: 30"
   ]
  },
  {
   "cell_type": "code",
   "execution_count": 24,
   "metadata": {},
   "outputs": [
    {
     "name": "stdout",
     "output_type": "stream",
     "text": [
      "10 20 30 40 50 60 \n",
      "Middle: 40\n"
     ]
    }
   ],
   "source": [
    "sll.append(60)\n",
    "sll.printList()           # 10 20 30 40 50 60\n",
    "print(\"Middle:\", sll.get_middle())  # output: 30 (still the lower middle)"
   ]
  }
 ],
 "metadata": {
  "kernelspec": {
   "display_name": "my-python3-kernel",
   "language": "python",
   "name": "my-python3-kernel"
  },
  "language_info": {
   "codemirror_mode": {
    "name": "ipython",
    "version": 3
   },
   "file_extension": ".py",
   "mimetype": "text/x-python",
   "name": "python",
   "nbconvert_exporter": "python",
   "pygments_lexer": "ipython3",
   "version": "3.12.7"
  },
  "widgets": {
   "application/vnd.jupyter.widget-state+json": {
    "state": {},
    "version_major": 2,
    "version_minor": 0
   }
  }
 },
 "nbformat": 4,
 "nbformat_minor": 4
}