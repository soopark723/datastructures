{
 "cells": [
  {
   "cell_type": "markdown",
   "metadata": {},
   "source": [
    "# Python"
   ]
  },
  {
   "cell_type": "markdown",
   "metadata": {},
   "source": [
    "# Introduction to Python Programming\n",
    "\n",
    "## Python Data Type"
   ]
  },
  {
   "cell_type": "code",
   "execution_count": null,
   "metadata": {},
   "outputs": [],
   "source": [
    "a = 5 # integer\n",
    "b = 5.0 # float: numbers with decimal points\n",
    "c = \"I'm a String\" # string\n",
    "d = True # boolean: true (1) or false (0)\n",
    "e = [\"apple\", \"banana\", \"grapes\"] # list\n",
    "\n",
    "print(\"Type of a: \", type(a))\n",
    "print(\"Type of b: \", type(b))\n",
    "print(\"Type of c: \", type(c))\n",
    "print(\"Type of d: \", type(d))\n",
    "print(\"Type of e: \", type(e))"
   ]
  },
  {
   "cell_type": "markdown",
   "metadata": {},
   "source": [
    "## List in Python\n"
   ]
  },
  {
   "cell_type": "code",
   "execution_count": null,
   "metadata": {},
   "outputs": [],
   "source": [
    "f = [\"apple\", \"banana\", \"grapes\", \"banana\"]\n",
    "print(\"first and third element of the list:\", f[0],\",\", f[2])\n",
    "print(\"the number of elements with the specified value: \",f.count(\"banana\"))\n",
    "f.append(\"strawberry\")\n",
    "print(\"Add an element at the end of the list:\\n\",f)\n",
    "f.insert(2,\"watermelon\")\n",
    "print(\"Add an element at specified position of the list:\\n\",f)"
   ]
  },
  {
   "cell_type": "markdown",
   "metadata": {},
   "source": [
    "## List Slicing in Python"
   ]
  },
  {
   "cell_type": "code",
   "execution_count": null,
   "metadata": {},
   "outputs": [],
   "source": [
    "f = [\"apple\", \"banana\", \"grapes\", \"banana\"]\n",
    "print(\"Elements from f[2] through  f[3]: \",f[2:])\n",
    "print(\"Elements from f[1] through  f[2]: \",f[1:3])\n",
    "print(\"Elements from f[0] through  f[1]: \",f[:2])\n",
    "# Index -1 represents the last element, -N represents the first element (N is the length of the list)\n",
    "print(\"Element f[-2] or equivalently f[2] in this case: \",f[-2])"
   ]
  },
  {
   "cell_type": "markdown",
   "metadata": {},
   "source": [
    "## Any or All"
   ]
  },
  {
   "cell_type": "code",
   "execution_count": null,
   "metadata": {},
   "outputs": [],
   "source": [
    "print(\"Is anything true?: \", any([False, False, False, False]))\n",
    "print(\"Is anything true?: \", any([False, True, False, False]))\n",
    "print(\"Is everything true?: \", all([True, True, True, True]))\n",
    "print(\"Is everything true?: \", all([True, True, True, False]))"
   ]
  },
  {
   "cell_type": "markdown",
   "metadata": {},
   "source": [
    "## Arithmetic Operators"
   ]
  },
  {
   "cell_type": "code",
   "execution_count": null,
   "metadata": {},
   "outputs": [],
   "source": [
    "a, b = 10, 3\n",
    "print(\"a + b = \", a + b) # Addition\n",
    "print(\"a - b = \", a - b) # Subtraction\n",
    "print(\"a * b = \", a * b) # Multiplication\n",
    "print(\"a / b = \", a / b) # Division\n",
    "print(\"a // b = \", a // b) # Floor division: rounds the result down to the nearest whole number\n",
    "print(\"a % b = \", a % b) # Modulus\n",
    "print(\"a ^ b = \", a ** b) # Exponentiation"
   ]
  },
  {
   "cell_type": "markdown",
   "metadata": {},
   "source": [
    "## Comparison Operators"
   ]
  },
  {
   "cell_type": "code",
   "execution_count": null,
   "metadata": {},
   "outputs": [],
   "source": [
    "a, b, c, d, e, f = 5, 5, 3, 7, \"5\", \"apple\"\n",
    "print(\"Is a and b equal: \", a == b)\n",
    "print(\"Is a and c not equal: \", a != c)\n",
    "print(\"Is a is bigger than c: \", a > c)\n",
    "print(\"Is a is bigger than d: \", a < d)\n",
    "print(\"Is a is bigger than equal to b: \", a >= b)\n",
    "print(\"Is integer 5 and string 5 equal: \", a == e)"
   ]
  },
  {
   "cell_type": "markdown",
   "metadata": {},
   "source": [
    "## Identity Operators"
   ]
  },
  {
   "cell_type": "code",
   "execution_count": null,
   "metadata": {},
   "outputs": [],
   "source": [
    "f = [\"apple\", \"banana\"]\n",
    "g = [\"apple\", \"banana\"]\n",
    "h = f\n",
    "print(\"Is f and g the same object?\", f is g)\n",
    "print(\"Is f and h the same object?\", f is h)\n",
    "print(\"Does f and g has same elements?\", f == g)"
   ]
  },
  {
   "cell_type": "markdown",
   "metadata": {},
   "source": [
    "## Membership Operators"
   ]
  },
  {
   "cell_type": "code",
   "execution_count": null,
   "metadata": {},
   "outputs": [],
   "source": [
    "f = [\"apple\", \"banana\", \"grapes\", \"banana\"]\n",
    "print(\"Is element banana in list f?\", \"banana\" in f)\n",
    "print(\"Is element banana not in list f?\", \"banana\" not in f)"
   ]
  },
  {
   "cell_type": "markdown",
   "metadata": {},
   "source": [
    "## Logical Operators"
   ]
  },
  {
   "cell_type": "code",
   "execution_count": null,
   "metadata": {},
   "outputs": [],
   "source": [
    "x = 11\n",
    "print(\"Is 5 < x < 10: \", x > 5 and  x < 10)\n",
    "print(\"Is x < 5 or x > 10: \", x < 5 or x > 10)"
   ]
  },
  {
   "cell_type": "markdown",
   "metadata": {},
   "source": [
    "## Range"
   ]
  },
  {
   "cell_type": "code",
   "execution_count": null,
   "metadata": {},
   "outputs": [],
   "source": [
    "print(\"Range object: \",range(10))\n",
    "print(\"Numbers from 0 to 9, increment by 1: \",list(range(10)))\n",
    "print(\"Numbers from 3 to 9, increment by 1: \",list(range(3,9)))\n",
    "print(\"Numbers from 3 to 9, increment by 1: \",list(range(3,9,2)))\n",
    "print(\"Numbers from 20 to 10, decrement by 2: \",list(range(20,10,-2)))"
   ]
  },
  {
   "cell_type": "markdown",
   "metadata": {},
   "source": [
    "## For Loops\n"
   ]
  },
  {
   "cell_type": "code",
   "execution_count": null,
   "metadata": {},
   "outputs": [],
   "source": [
    "fruits = [\"apple\", \"banana\", \"cherry\", \"watermelon\"]\n",
    "for x in fruits:\n",
    "  print(x)\n",
    "  if x == \"cherry\":\n",
    "    break\n",
    "\n",
    "for _ in range(3, 9, 2): # can use any characters instead of _\n",
    "    print(_)\n",
    "    x = 3"
   ]
  },
  {
   "cell_type": "markdown",
   "metadata": {},
   "source": [
    "## If else"
   ]
  },
  {
   "cell_type": "code",
   "execution_count": null,
   "metadata": {},
   "outputs": [],
   "source": [
    "a, b = 200, 33\n",
    "if a < b:\n",
    "    print(\"b is greater than a\")\n",
    "elif a == b:\n",
    "    print(\"a and b are equal\")\n",
    "else:\n",
    "    print(\"a is greater than b\")"
   ]
  },
  {
   "cell_type": "markdown",
   "metadata": {},
   "source": [
    "## While"
   ]
  },
  {
   "cell_type": "code",
   "execution_count": null,
   "metadata": {},
   "outputs": [],
   "source": [
    "i = 0 # if you try with i = 10, then while loop won't run\n",
    "while i < 6:\n",
    "  i = i + 1\n",
    "  if i == 3:\n",
    "    print(\"Exit while loop as i is equal to 3\")\n",
    "    break\n",
    "  else:\n",
    "    print(\"i is less than 6, i is equal to \", i) # try with i=10"
   ]
  },
  {
   "cell_type": "markdown",
   "metadata": {},
   "source": [
    "## Functions"
   ]
  },
  {
   "cell_type": "code",
   "execution_count": null,
   "metadata": {},
   "outputs": [],
   "source": [
    "def my_function(food):\n",
    "    return(food[1])\n",
    "fruits = [\"apple\", \"banana\", \"cherry\"]\n",
    "output = my_function(fruits)\n",
    "print(\"Output of my_function() is: \", output)"
   ]
  },
  {
   "cell_type": "markdown",
   "metadata": {},
   "source": [
    "## Plotting"
   ]
  },
  {
   "cell_type": "code",
   "execution_count": null,
   "metadata": {},
   "outputs": [],
   "source": [
    "# importing the required module\n",
    "import matplotlib.pyplot as plt\n",
    "\n",
    "# create data\n",
    "x = list(range(10,100,10))\n",
    "y1 = list(range(100,10,-10))\n",
    "y2 = list(range(10,100,10))\n",
    "\n",
    "# create plot\n",
    "plt.clf() # clear the current figure if any\n",
    "plt.plot(x, y1, label = \"line 1\") # plot lines\n",
    "plt.plot(x, y2, label = \"line 2\") # plot lines\n",
    "plt.legend() # add legend\n",
    "plt.title('Relationship between x and y') # add title\n",
    "plt.show() # show the plot"
   ]
  },
  {
   "cell_type": "markdown",
   "metadata": {},
   "source": [
    "# Classes and Objects\n",
    "## Attributes"
   ]
  },
  {
   "cell_type": "code",
   "execution_count": null,
   "metadata": {},
   "outputs": [],
   "source": [
    "* `class` creates a user-defined data structure.\n",
    "* Attributes: the variables that belong to a class.\n",
    "* Attributes can be accessed using the dot (.) operator.\n",
    "\n",
    "\n",
    "class MyClass: # a class in its simplest form\n",
    "  name = \"Ewha\" # attribute: a variable that belong to a class\n",
    "  age = 25\n",
    "myobject = MyClass() # an object in its simplest form\n",
    "print(\"My name is\", myobject.name)\n",
    "print(\"I'm\", myobject.age, \"years old\")"
   ]
  },
  {
   "cell_type": "markdown",
   "metadata": {},
   "source": [
    "## `self` Parameter"
   ]
  },
  {
   "cell_type": "code",
   "execution_count": null,
   "metadata": {},
   "outputs": [],
   "source": [
    "* A reference to the current instance of the class, and is used to access variables that belongs to the class.\n",
    "\n",
    "class MyClass:\n",
    "  name = \"Ewha\"\n",
    "  age = 25\n",
    "  def myname(self): # a function that belongs to the class\n",
    "    print(\"My name is\", self.name)\n",
    "    print(\"I'm\", self.age, \"years old\")\n",
    "myobject = MyClass()\n",
    "myobject.myname()\n",
    "print(\"Access name variable inside object:\", myobject.name)\n",
    "print(\"Access age variable inside object:\", myobject.age)"
   ]
  },
  {
   "cell_type": "markdown",
   "metadata": {},
   "source": [
    "## `__init__()` Function"
   ]
  },
  {
   "cell_type": "code",
   "execution_count": null,
   "metadata": {},
   "outputs": [],
   "source": [
    "* A function which is always executed when the `class` is being initiated.\n",
    "\n",
    "* `__init__`: used to initialize objects of a newly created object of a class.\n",
    "\n",
    "class MyClass:\n",
    "  def __init__(self,name,age):\n",
    "    self.name = name\n",
    "    self.age = age\n",
    "\n",
    "  def myname(self):\n",
    "    print(\"My name is\", self.name)\n",
    "    print(\"I'm\", self.age, \"years old\")\n",
    "\n",
    "myobject = MyClass(name=\"Amy\", age=55)\n",
    "myobject.myname()\n",
    "print(myobject)"
   ]
  },
  {
   "cell_type": "markdown",
   "metadata": {},
   "source": [
    "## Default values for `__init__()` Function"
   ]
  },
  {
   "cell_type": "code",
   "execution_count": null,
   "metadata": {},
   "outputs": [],
   "source": [
    "class MyClass:\n",
    "  def __init__(self, name=\"Ewha\", age=25):\n",
    "    self.name = name\n",
    "    self.age = age\n",
    "\n",
    "  def myname(self):\n",
    "    print(\"My name is\", self.name)\n",
    "    print(\"I'm\", self.age, \"years old\")\n",
    "\n",
    "myobject = MyClass()\n",
    "myobject.myname()"
   ]
  },
  {
   "cell_type": "markdown",
   "metadata": {},
   "source": [
    "## `__init__()` Function and `self` Parameter"
   ]
  },
  {
   "cell_type": "code",
   "execution_count": null,
   "metadata": {},
   "outputs": [],
   "source": [
    "* It does not have to be named `self`, but it has to be the first parameter of any function in the class.\n",
    "\n",
    "class MyClass:\n",
    "  def __init__(hey, name=\"Ewha\", age=25):\n",
    "    hey.name = name\n",
    "    hey.age = age\n",
    "\n",
    "  def myname(hey):\n",
    "    print(\"My name is\", hey.name)\n",
    "    print(\"I'm\", hey.age, \"years old\")\n",
    "\n",
    "myobject = MyClass(name=\"Apple\", age=55)\n",
    "myobject.myname()"
   ]
  },
  {
   "cell_type": "markdown",
   "metadata": {},
   "source": [
    "## `__str__()` Function"
   ]
  },
  {
   "cell_type": "code",
   "execution_count": null,
   "metadata": {},
   "outputs": [],
   "source": [
    "* Used to define how a class object should be represented as a string.\n",
    "\n",
    "print(myobject)\n",
    "\n",
    "class MyClass:\n",
    "  def __init__(self,name,age):\n",
    "    self.name = name\n",
    "    self.age = age\n",
    "\n",
    "  def __str__(self):\n",
    "    return f\"My name is {self.name} and I'm {self.age} years old.\"\n",
    "\n",
    "myobject = MyClass(name=\"Apple\", age=55)\n",
    "print(myobject)"
   ]
  },
  {
   "cell_type": "markdown",
   "metadata": {},
   "source": [
    "## Modify Object Variables and Delete Object"
   ]
  },
  {
   "cell_type": "code",
   "execution_count": null,
   "metadata": {},
   "outputs": [],
   "source": [
    "print(\"age before modifying = \", myobject.age)\n",
    "myobject.age = 40\n",
    "print(\"age after modifying = \", myobject.age)\n",
    "del myobject.age\n",
    "# print(\"age after deleting = \", myobject.age) # will return 'AttributeError: myobject' object has no attribute 'age'\n",
    "del myobject\n",
    "# print(myobject) # will return NameError: name 'myobject' is not defined"
   ]
  },
  {
   "cell_type": "markdown",
   "metadata": {},
   "source": [
    "# Modules\n",
    "\n",
    "## Module: Importing"
   ]
  },
  {
   "cell_type": "code",
   "execution_count": null,
   "metadata": {},
   "outputs": [],
   "source": [
    "* A file containing a set of functions you want to include in your application.\n",
    "* Create `mymodule.py` file including the below:\n",
    "\n",
    "# <mymodule.py>\n",
    "def myname(name):\n",
    "  print(\"This is a function inside of a file mymodule.py\")\n",
    "  print(\"My name is\", name)\n",
    "\n",
    "def myage(age):\n",
    "  print(\"I'm\", age, \"years old\")\n",
    "\n",
    "* `Import` the module named `mymodule`, and call `myname` and `myage` function from `mymodule`."
   ]
  },
  {
   "cell_type": "code",
   "execution_count": null,
   "metadata": {},
   "outputs": [],
   "source": [
    "import mymodule\n",
    "mymodule.myname(name=\"Ewha\")\n",
    "mymodule.myage(age=25)"
   ]
  },
  {
   "cell_type": "code",
   "execution_count": null,
   "metadata": {},
   "outputs": [],
   "source": [
    "* You can choose to import only parts from a module, by using the `from` keyword.\n",
    "\n",
    "from mymodule import myname\n",
    "mymodule.myname(name=\"Ewha\")\n",
    "# mymodule.myage(age=25) # a function myage is not imported"
   ]
  },
  {
   "cell_type": "markdown",
   "metadata": {},
   "source": [
    "## Module: Re-naming a Module"
   ]
  },
  {
   "cell_type": "code",
   "execution_count": null,
   "metadata": {},
   "outputs": [],
   "source": [
    "* You can create an nickname when you import a module, by using the `as` keyword.\n",
    "\n",
    "import mymodule as md\n",
    "md.myname(name=\"Ewha\")\n",
    "md.myage(age=25)"
   ]
  }
 ],
 "metadata": {
  "kernelspec": {
   "display_name": "Python 3 (ipykernel)",
   "language": "python",
   "name": "python3"
  },
  "language_info": {
   "codemirror_mode": {
    "name": "ipython",
    "version": 3
   },
   "file_extension": ".py",
   "mimetype": "text/x-python",
   "name": "python",
   "nbconvert_exporter": "python",
   "pygments_lexer": "ipython3",
   "version": "3.12.3"
  },
  "widgets": {
   "application/vnd.jupyter.widget-state+json": {
    "state": {},
    "version_major": 2,
    "version_minor": 0
   }
  }
 },
 "nbformat": 4,
 "nbformat_minor": 4
}
